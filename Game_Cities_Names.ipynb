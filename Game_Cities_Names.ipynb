{
 "cells": [
  {
   "cell_type": "markdown",
   "id": "unnecessary-branch",
   "metadata": {},
   "source": [
    "## Find longest chain of cities names\n",
    "By Last char and first char<br>\n",
    "Example:<br>\n",
    "<i>Bangkok - Kuala Lumpur - Riyadh</i>....."
   ]
  },
  {
   "cell_type": "code",
   "execution_count": 1,
   "id": "static-garbage",
   "metadata": {},
   "outputs": [],
   "source": [
    "cities = [\"Amsterdam\", \"Moscow\", \"Paris\", \"Minsk\", \"San Diego\", \"Miami\", \"Orlando\", \"Mexico\", \"Los Angeles\", \"Oslo\", \"San Francisco\", \n",
    "         \"Chicago\", \"Toronto\", \"Philadelphia\", \"Atlanta\", \"Boston\", \"Monterrey\", \"Detroit\", \"Vancouver\",\"Mumbai\",\"Beijing\",\"Dhaka\",\"Osaka\",\"New York\",\"Karachi\",\"Buenos Aires\",\"Chongqing\",\"Istanbul\"]\n",
    "\n",
    "# cities = \"Tokyo,Delhi,Shanghai,San Paulo,Mexico City,Cairo,Mumbai,Beijing,Dhaka,Osaka,New York,Karachi,Buenos Aires,Chongqing,Istanbul,Kolkata,Manila,Lagos,Rio de Janeiro,Tianjin,Kinshasa,Guangzhou,Los Angeles,Moscow,Shenzhen,Lahore,Bangalore,Paris,Bogot?,Jakarta,Chennai,Lima,Bangkok,Seoul,Nagoya,Hyderabad,London,Tehran,Chicago,Chengdu,Nanjing,Wuhan,Ho Chi Minh City,Luanda,Ahmedabad,Kuala Lumpur,Xi'an,Hong Kong,Dongguan,Hangzhou,Foshan,Shenyang,Riyadh,Baghdad,Santiago,Surat,Madrid,Suzhou,Pune,Harbin,Houston,Dallas,Toronto,Dar es Salaam,Miami,Belo Horizonte,Singapore,Philadelphia,Atlanta,Fukuoka,Khartoum,Barcelona,Johannesburg,Saint Petersburg,Qingdao,Dalian,Washington,Yangon,Alexandria,Jinan,Guadalajara\"\n",
    "# cities = cities.split(\",\")"
   ]
  },
  {
   "cell_type": "code",
   "execution_count": 2,
   "id": "atomic-property",
   "metadata": {},
   "outputs": [
    {
     "name": "stdout",
     "output_type": "stream",
     "text": [
      "All Cities: 28\n"
     ]
    }
   ],
   "source": [
    "print(\"All Cities:\", len(cities))"
   ]
  },
  {
   "cell_type": "code",
   "execution_count": 3,
   "id": "systematic-nurse",
   "metadata": {},
   "outputs": [],
   "source": [
    "from tqdm.notebook import tqdm\n",
    "from itertools import permutations\n",
    "import array\n",
    "import gc\n",
    "from matplotlib import pyplot as plt\n",
    "import seaborn as sns"
   ]
  },
  {
   "cell_type": "code",
   "execution_count": 4,
   "id": "polar-fruit",
   "metadata": {},
   "outputs": [],
   "source": [
    "def check_chain(chain):\n",
    "    flag = True\n",
    "    count = 0\n",
    "    for i in chain:\n",
    "        if count+1 == len(chain): break        \n",
    "        city1 = cities[chain[count]].lower()\n",
    "        city2 = cities[chain[count+1]].lower() \n",
    "        if city1[len(city1)-1] != city2[0]: flag = False; break\n",
    "        count += 1\n",
    "    return flag"
   ]
  },
  {
   "cell_type": "code",
   "execution_count": 5,
   "id": "thermal-plastic",
   "metadata": {},
   "outputs": [],
   "source": [
    "chains = []\n",
    "variants = permutations(range(len(cities)), 2)\n",
    "for i, chain in enumerate(variants):\n",
    "    if check_chain(chain):\n",
    "        #print(list(chain))\n",
    "        chains.append(list(chain))\n",
    "CHAINS_CONST = tuple(chains)"
   ]
  },
  {
   "cell_type": "code",
   "execution_count": 6,
   "id": "seventh-protocol",
   "metadata": {},
   "outputs": [
    {
     "data": {
      "application/vnd.jupyter.widget-view+json": {
       "model_id": "9eb9343437504bb5b9312363fd2951b9",
       "version_major": 2,
       "version_minor": 0
      },
      "text/plain": [
       "  0%|          | 0/46 [00:00<?, ?it/s]"
      ]
     },
     "metadata": {},
     "output_type": "display_data"
    }
   ],
   "source": [
    "chains = {}\n",
    "for c in tqdm(CHAINS_CONST): \n",
    "    if c[0] in chains:\n",
    "        chains[c[0]].append(c[1])\n",
    "    else:\n",
    "        chains[c[0]] = [c[1]]\n",
    "#chains            "
   ]
  },
  {
   "cell_type": "code",
   "execution_count": 7,
   "id": "indie-essence",
   "metadata": {},
   "outputs": [
    {
     "name": "stdout",
     "output_type": "stream",
     "text": [
      "Amsterdam ['Moscow', 'Minsk', 'Miami', 'Mexico', 'Monterrey', 'Mumbai']\n",
      "Moscow\n",
      "Paris ['San Diego', 'San Francisco']\n",
      "Minsk ['Karachi']\n",
      "San Diego ['Orlando', 'Oslo', 'Osaka']\n",
      "Miami ['Istanbul']\n",
      "Orlando ['Oslo', 'Osaka']\n",
      "Mexico ['Orlando', 'Oslo', 'Osaka']\n",
      "Los Angeles ['San Diego', 'San Francisco']\n",
      "Oslo ['Orlando', 'Osaka']\n",
      "San Francisco ['Orlando', 'Oslo', 'Osaka']\n",
      "Chicago ['Orlando', 'Oslo', 'Osaka']\n",
      "Toronto ['Orlando', 'Oslo', 'Osaka']\n",
      "Philadelphia ['Amsterdam', 'Atlanta']\n",
      "Atlanta ['Amsterdam']\n",
      "Boston ['New York']\n",
      "Monterrey\n",
      "Detroit ['Toronto']\n",
      "Vancouver\n",
      "Mumbai ['Istanbul']\n",
      "Beijing\n",
      "Dhaka ['Amsterdam', 'Atlanta']\n",
      "Osaka ['Amsterdam', 'Atlanta']\n",
      "New York ['Karachi']\n",
      "Karachi ['Istanbul']\n",
      "Buenos Aires ['San Diego', 'San Francisco']\n",
      "Chongqing\n",
      "Istanbul ['Los Angeles']\n"
     ]
    }
   ],
   "source": [
    "for i in range(len(cities)):\n",
    "    if i in chains:\n",
    "        names = [cities[x] for x in chains[i]]\n",
    "        print(cities[i], names)\n",
    "    else:\n",
    "        print(cities[i])"
   ]
  },
  {
   "cell_type": "code",
   "execution_count": 8,
   "id": "electric-highlight",
   "metadata": {},
   "outputs": [
    {
     "data": {
      "image/png": "[encoded data removed]",
      "text/plain": [
       "<Figure size 1008x1008 with 1 Axes>"
      ]
     },
     "metadata": {
      "needs_background": "light"
     },
     "output_type": "display_data"
    }
   ],
   "source": [
    "plt.figure(figsize = (14,14))\n",
    "plt.title(\"Number of continuations for each city\")\n",
    "sns.barplot(y = cities, x = [len(chains[x]) if x in chains else 0 for x in range(len(cities))])\n",
    "plt.show()"
   ]
  },
  {
   "cell_type": "code",
   "execution_count": 9,
   "id": "completed-intake",
   "metadata": {},
   "outputs": [
    {
     "data": {
      "application/vnd.jupyter.widget-view+json": {
       "model_id": "8255b5a4cf154f259e2005d4924641b3",
       "version_major": 2,
       "version_minor": 0
      },
      "text/plain": [
       "  0%|          | 0/46 [00:00<?, ?it/s]"
      ]
     },
     "metadata": {},
     "output_type": "display_data"
    },
    {
     "name": "stdout",
     "output_type": "stream",
     "text": [
      "3 Length found: 98 chains\n",
      "Chain Example: ['Amsterdam', 'Minsk', 'Karachi']\n"
     ]
    },
    {
     "data": {
      "application/vnd.jupyter.widget-view+json": {
       "model_id": "478f939a40534b55af4e92e835a0502a",
       "version_major": 2,
       "version_minor": 0
      },
      "text/plain": [
       "  0%|          | 0/98 [00:00<?, ?it/s]"
      ]
     },
     "metadata": {},
     "output_type": "display_data"
    },
    {
     "name": "stdout",
     "output_type": "stream",
     "text": [
      "4 Length found: 188 chains\n",
      "Chain Example: ['Amsterdam', 'Minsk', 'Karachi', 'Istanbul']\n"
     ]
    },
    {
     "data": {
      "application/vnd.jupyter.widget-view+json": {
       "model_id": "074b90305c2942a99eb1a56219d6ced2",
       "version_major": 2,
       "version_minor": 0
      },
      "text/plain": [
       "  0%|          | 0/188 [00:00<?, ?it/s]"
      ]
     },
     "metadata": {},
     "output_type": "display_data"
    },
    {
     "name": "stdout",
     "output_type": "stream",
     "text": [
      "5 Length found: 354 chains\n",
      "Chain Example: ['Amsterdam', 'Minsk', 'Karachi', 'Istanbul', 'Los Angeles']\n"
     ]
    },
    {
     "data": {
      "application/vnd.jupyter.widget-view+json": {
       "model_id": "2f8d62474d344c1c90d0ba963bc71e8f",
       "version_major": 2,
       "version_minor": 0
      },
      "text/plain": [
       "  0%|          | 0/354 [00:00<?, ?it/s]"
      ]
     },
     "metadata": {},
     "output_type": "display_data"
    },
    {
     "name": "stdout",
     "output_type": "stream",
     "text": [
      "6 Length found: 586 chains\n",
      "Chain Example: ['Amsterdam', 'Minsk', 'Karachi', 'Istanbul', 'Los Angeles', 'San Diego']\n"
     ]
    },
    {
     "data": {
      "application/vnd.jupyter.widget-view+json": {
       "model_id": "59172992db994a71a61f0d461ff4ea20",
       "version_major": 2,
       "version_minor": 0
      },
      "text/plain": [
       "  0%|          | 0/586 [00:00<?, ?it/s]"
      ]
     },
     "metadata": {},
     "output_type": "display_data"
    },
    {
     "name": "stdout",
     "output_type": "stream",
     "text": [
      "7 Length found: 791 chains\n",
      "Chain Example: ['Amsterdam', 'Minsk', 'Karachi', 'Istanbul', 'Los Angeles', 'San Diego', 'Orlando']\n"
     ]
    },
    {
     "data": {
      "application/vnd.jupyter.widget-view+json": {
       "model_id": "1aa2c7fcd33647988d09032a2e15e7a1",
       "version_major": 2,
       "version_minor": 0
      },
      "text/plain": [
       "  0%|          | 0/791 [00:00<?, ?it/s]"
      ]
     },
     "metadata": {},
     "output_type": "display_data"
    },
    {
     "name": "stdout",
     "output_type": "stream",
     "text": [
      "8 Length found: 925 chains\n",
      "Chain Example: ['Amsterdam', 'Minsk', 'Karachi', 'Istanbul', 'Los Angeles', 'San Diego', 'Orlando', 'Oslo']\n"
     ]
    },
    {
     "data": {
      "application/vnd.jupyter.widget-view+json": {
       "model_id": "bc6aeb60afb44bb19fc052db7acb7dba",
       "version_major": 2,
       "version_minor": 0
      },
      "text/plain": [
       "  0%|          | 0/925 [00:00<?, ?it/s]"
      ]
     },
     "metadata": {},
     "output_type": "display_data"
    },
    {
     "name": "stdout",
     "output_type": "stream",
     "text": [
      "9 Length found: 967 chains\n",
      "Chain Example: ['Amsterdam', 'Minsk', 'Karachi', 'Istanbul', 'Los Angeles', 'San Diego', 'Orlando', 'Oslo', 'Osaka']\n"
     ]
    },
    {
     "data": {
      "application/vnd.jupyter.widget-view+json": {
       "model_id": "dec338de785f4aa0a60098741dcdfbea",
       "version_major": 2,
       "version_minor": 0
      },
      "text/plain": [
       "  0%|          | 0/967 [00:00<?, ?it/s]"
      ]
     },
     "metadata": {},
     "output_type": "display_data"
    },
    {
     "name": "stdout",
     "output_type": "stream",
     "text": [
      "10 Length found: 754 chains\n",
      "Chain Example: ['Amsterdam', 'Minsk', 'Karachi', 'Istanbul', 'Los Angeles', 'San Diego', 'Orlando', 'Oslo', 'Osaka', 'Atlanta']\n"
     ]
    },
    {
     "data": {
      "application/vnd.jupyter.widget-view+json": {
       "model_id": "2179c622021f4162a4311144e85c768d",
       "version_major": 2,
       "version_minor": 0
      },
      "text/plain": [
       "  0%|          | 0/754 [00:00<?, ?it/s]"
      ]
     },
     "metadata": {},
     "output_type": "display_data"
    },
    {
     "name": "stdout",
     "output_type": "stream",
     "text": [
      "11 Length found: 338 chains\n",
      "Chain Example: ['Paris', 'San Diego', 'Orlando', 'Oslo', 'Osaka', 'Amsterdam', 'Minsk', 'Karachi', 'Istanbul', 'Los Angeles', 'San Francisco']\n"
     ]
    },
    {
     "data": {
      "application/vnd.jupyter.widget-view+json": {
       "model_id": "252137c4a7284cbfaf6deb473bb4c5cb",
       "version_major": 2,
       "version_minor": 0
      },
      "text/plain": [
       "  0%|          | 0/338 [00:00<?, ?it/s]"
      ]
     },
     "metadata": {},
     "output_type": "display_data"
    },
    {
     "name": "stdout",
     "output_type": "stream",
     "text": [
      "12 Length found: 68 chains\n",
      "Chain Example: ['Paris', 'San Diego', 'Orlando', 'Oslo', 'Osaka', 'Atlanta', 'Amsterdam', 'Minsk', 'Karachi', 'Istanbul', 'Los Angeles', 'San Francisco']\n"
     ]
    },
    {
     "data": {
      "application/vnd.jupyter.widget-view+json": {
       "model_id": "d2f6b0f9f5be43ff9580d7f523297283",
       "version_major": 2,
       "version_minor": 0
      },
      "text/plain": [
       "  0%|          | 0/68 [00:00<?, ?it/s]"
      ]
     },
     "metadata": {},
     "output_type": "display_data"
    },
    {
     "name": "stdout",
     "output_type": "stream",
     "text": [
      "Wall time: 731 ms\n"
     ]
    }
   ],
   "source": [
    "%%time\n",
    "all_chains = {}\n",
    "chains = list(CHAINS_CONST)\n",
    "\n",
    "for step in range(len(CHAINS_CONST)):    \n",
    "    if 'chains_temp' in locals(): del chains_temp; gc.collect()\n",
    "    chains_temp = []\n",
    "    flag = True\n",
    "    for c in tqdm(chains):\n",
    "        for c1 in CHAINS_CONST:\n",
    "            if c[len(c) - 1] == c1[0] and c1[1] not in c:\n",
    "                #a = list(c) # faster works, but need more memory\n",
    "                a = array.array('I', c) # low memory usage\n",
    "                a.append(c1[1])\n",
    "                chains_temp.append(a)\n",
    "                flag = False\n",
    "    if flag == True: break\n",
    "    del chains\n",
    "    chains = chains_temp\n",
    "    \n",
    "    print(step+3, \"Length found:\", len(chains), \"chains\")\n",
    "    all_chains[step+3] = len(chains)   \n",
    "       \n",
    "    print(\"Chain Example:\", [cities[i] for i in chains[0]])"
   ]
  },
  {
   "cell_type": "code",
   "execution_count": 10,
   "id": "operational-reference",
   "metadata": {},
   "outputs": [],
   "source": [
    "#all_chains"
   ]
  },
  {
   "cell_type": "code",
   "execution_count": 11,
   "id": "conditional-microphone",
   "metadata": {},
   "outputs": [
    {
     "data": {
      "image/png": "[encoded data removed]",
      "text/plain": [
       "<Figure size 720x360 with 1 Axes>"
      ]
     },
     "metadata": {
      "needs_background": "light"
     },
     "output_type": "display_data"
    }
   ],
   "source": [
    "plt.figure(figsize = (10,5))\n",
    "sns.barplot(x = list(all_chains.keys()), y = list(all_chains.values()))\n",
    "plt.title(\"Count of found chains cities names\")\n",
    "plt.show()"
   ]
  },
  {
   "cell_type": "markdown",
   "id": "elder-aircraft",
   "metadata": {},
   "source": [
    "#### Show 10 longest chains"
   ]
  },
  {
   "cell_type": "code",
   "execution_count": 12,
   "id": "centered-technology",
   "metadata": {},
   "outputs": [
    {
     "name": "stdout",
     "output_type": "stream",
     "text": [
      "Chain Lenght: 12 ['Paris', 'San Diego', 'Orlando', 'Oslo', 'Osaka', 'Atlanta', 'Amsterdam', 'Minsk', 'Karachi', 'Istanbul', 'Los Angeles', 'San Francisco']\n",
      "Chain Lenght: 12 ['Paris', 'San Diego', 'Orlando', 'Osaka', 'Atlanta', 'Amsterdam', 'Minsk', 'Karachi', 'Istanbul', 'Los Angeles', 'San Francisco', 'Oslo']\n",
      "Chain Lenght: 12 ['Paris', 'San Diego', 'Oslo', 'Orlando', 'Osaka', 'Atlanta', 'Amsterdam', 'Minsk', 'Karachi', 'Istanbul', 'Los Angeles', 'San Francisco']\n",
      "Chain Lenght: 12 ['Paris', 'San Diego', 'Oslo', 'Osaka', 'Atlanta', 'Amsterdam', 'Minsk', 'Karachi', 'Istanbul', 'Los Angeles', 'San Francisco', 'Orlando']\n",
      "Chain Lenght: 12 ['Paris', 'San Diego', 'Osaka', 'Atlanta', 'Amsterdam', 'Minsk', 'Karachi', 'Istanbul', 'Los Angeles', 'San Francisco', 'Orlando', 'Oslo']\n",
      "Chain Lenght: 12 ['Paris', 'San Diego', 'Osaka', 'Atlanta', 'Amsterdam', 'Minsk', 'Karachi', 'Istanbul', 'Los Angeles', 'San Francisco', 'Oslo', 'Orlando']\n",
      "Chain Lenght: 12 ['Paris', 'San Francisco', 'Orlando', 'Oslo', 'Osaka', 'Atlanta', 'Amsterdam', 'Minsk', 'Karachi', 'Istanbul', 'Los Angeles', 'San Diego']\n",
      "Chain Lenght: 12 ['Paris', 'San Francisco', 'Orlando', 'Osaka', 'Atlanta', 'Amsterdam', 'Minsk', 'Karachi', 'Istanbul', 'Los Angeles', 'San Diego', 'Oslo']\n",
      "Chain Lenght: 12 ['Paris', 'San Francisco', 'Oslo', 'Orlando', 'Osaka', 'Atlanta', 'Amsterdam', 'Minsk', 'Karachi', 'Istanbul', 'Los Angeles', 'San Diego']\n",
      "Chain Lenght: 12 ['Paris', 'San Francisco', 'Oslo', 'Osaka', 'Atlanta', 'Amsterdam', 'Minsk', 'Karachi', 'Istanbul', 'Los Angeles', 'San Diego', 'Orlando']\n"
     ]
    }
   ],
   "source": [
    "max_show = 10\n",
    "for chain in chains[:max_show]:\n",
    "    names = [cities[i] for i in chain]      \n",
    "    print(\"Chain Lenght:\", len(names), names)    "
   ]
  }
 ],
 "metadata": {
  "kernelspec": {
   "display_name": "Python 3",
   "language": "python",
   "name": "python3"
  },
  "language_info": {
   "codemirror_mode": {
    "name": "ipython",
    "version": 3
   },
   "file_extension": ".py",
   "mimetype": "text/x-python",
   "name": "python",
   "nbconvert_exporter": "python",
   "pygments_lexer": "ipython3",
   "version": "3.8.7"
  }
 },
 "nbformat": 4,
 "nbformat_minor": 5
}
