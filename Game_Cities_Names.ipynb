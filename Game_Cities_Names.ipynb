{
 "cells": [
  {
   "cell_type": "markdown",
   "id": "unnecessary-branch",
   "metadata": {},
   "source": [
    "## Find longest chain of cities names\n",
    "By Last char and first char<br>\n",
    "Example:\n",
    "<b>Bangkok - Kuala Lumpur - Riyadh</b>....."
   ]
  },
  {
   "cell_type": "code",
   "execution_count": null,
   "id": "static-garbage",
   "metadata": {},
   "outputs": [],
   "source": [
    "# cities = [\"Amsterdam\", \"Moscow\", \"Paris\", \"Minsk\", \"San Diego\", \"Miami\", \"Orlando\", \"Mexico\", \"Los Angeles\", \"Oslo\", \"San Francisco\", \n",
    "#          \"Chicago\", \"Toronto\", \"Philadelphia\", \"Atlanta\", \"Boston\", \"Monterrey\", \"Detroit\", \"Vancouver\"]\n",
    "\n",
    "cities = \"Tokyo,Delhi,Shanghai,San Paulo,Mexico City,Cairo,Mumbai,Beijing,Dhaka,Osaka,New York,Karachi,Buenos Aires,Chongqing,Istanbul,Kolkata,Manila,Lagos,Rio de Janeiro,Tianjin,Kinshasa,Guangzhou,Los Angeles,Moscow,Shenzhen,Lahore,Bangalore,Paris,Bogot?,Jakarta,Chennai,Lima,Bangkok,Seoul,Nagoya,Hyderabad,London,Tehran,Chicago,Chengdu,Nanjing,Wuhan,Ho Chi Minh City,Luanda,Ahmedabad,Kuala Lumpur,Xi'an,Hong Kong,Dongguan,Hangzhou,Foshan,Shenyang,Riyadh,Baghdad,Santiago,Surat,Madrid,Suzhou,Pune,Harbin,Houston,Dallas,Toronto,Dar es Salaam,Miami,Belo Horizonte,Singapore,Philadelphia,Atlanta,Fukuoka,Khartoum,Barcelona,Johannesburg,Saint Petersburg,Qingdao,Dalian,Washington,Yangon,Alexandria,Jinan,Guadalajara\"\n",
    "cities = cities.split(\",\")"
   ]
  },
  {
   "cell_type": "code",
   "execution_count": 1,
   "id": "atomic-property",
   "metadata": {},
   "outputs": [
    {
     "name": "stdout",
     "output_type": "stream",
     "text": [
      "All Cities: 81\n"
     ]
    }
   ],
   "source": [
    "print(\"All Cities:\", len(cities))"
   ]
  },
  {
   "cell_type": "code",
   "execution_count": 2,
   "id": "systematic-nurse",
   "metadata": {},
   "outputs": [],
   "source": [
    "from tqdm.notebook import tqdm\n",
    "from itertools import permutations\n",
    "import array\n",
    "import gc\n",
    "from matplotlib import pyplot as plt\n",
    "import seaborn as sns"
   ]
  },
  {
   "cell_type": "code",
   "execution_count": 3,
   "id": "polar-fruit",
   "metadata": {},
   "outputs": [],
   "source": [
    "def check_chain(chain):\n",
    "    flag = True\n",
    "    count = 0\n",
    "    for i in chain:\n",
    "        if count+1 == len(chain): break        \n",
    "        city1 = cities[chain[count]].lower()\n",
    "        city2 = cities[chain[count+1]].lower() \n",
    "        if city1[len(city1)-1] != city2[0]: flag = False; break\n",
    "        count += 1\n",
    "    return flag"
   ]
  },
  {
   "cell_type": "code",
   "execution_count": 4,
   "id": "thermal-plastic",
   "metadata": {},
   "outputs": [
    {
     "name": "stdout",
     "output_type": "stream",
     "text": [
      "[0, 9]\n",
      "[1, 14]\n",
      "[2, 14]\n",
      "[3, 9]\n",
      "[4, 77]\n",
      "[5, 9]\n",
      "[6, 14]\n",
      "[7, 21]\n",
      "[7, 80]\n",
      "[8, 44]\n",
      "[8, 68]\n",
      "[8, 78]\n",
      "[9, 44]\n",
      "[9, 68]\n",
      "[9, 78]\n",
      "[10, 11]\n",
      "[10, 15]\n",
      "[10, 20]\n",
      "[10, 45]\n",
      "[10, 70]\n",
      "[11, 14]\n",
      "[12, 2]\n",
      "[12, 3]\n",
      "[12, 24]\n",
      "[12, 33]\n",
      "[12, 51]\n",
      "[12, 54]\n",
      "[12, 55]\n",
      "[12, 57]\n",
      "[12, 66]\n",
      "[12, 73]\n",
      "[13, 21]\n",
      "[13, 80]\n",
      "[14, 17]\n",
      "[14, 22]\n",
      "[14, 25]\n",
      "[14, 31]\n",
      "[14, 36]\n",
      "[14, 43]\n",
      "[15, 44]\n",
      "[15, 68]\n",
      "[15, 78]\n",
      "[16, 44]\n",
      "[16, 68]\n",
      "[16, 78]\n",
      "[17, 2]\n",
      "[17, 3]\n",
      "[17, 24]\n",
      "[17, 33]\n",
      "[17, 51]\n",
      "[17, 54]\n",
      "[17, 55]\n",
      "[17, 57]\n",
      "[17, 66]\n",
      "[17, 73]\n",
      "[18, 9]\n",
      "[19, 10]\n",
      "[19, 34]\n",
      "[19, 40]\n",
      "[20, 44]\n",
      "[20, 68]\n",
      "[20, 78]\n",
      "[22, 2]\n",
      "[22, 3]\n",
      "[22, 24]\n",
      "[22, 33]\n",
      "[22, 51]\n",
      "[22, 54]\n",
      "[22, 55]\n",
      "[22, 57]\n",
      "[22, 66]\n",
      "[22, 73]\n",
      "[23, 41]\n",
      "[23, 76]\n",
      "[24, 10]\n",
      "[24, 34]\n",
      "[24, 40]\n",
      "[27, 2]\n",
      "[27, 3]\n",
      "[27, 24]\n",
      "[27, 33]\n",
      "[27, 51]\n",
      "[27, 54]\n",
      "[27, 55]\n",
      "[27, 57]\n",
      "[27, 66]\n",
      "[27, 73]\n",
      "[29, 44]\n",
      "[29, 68]\n",
      "[29, 78]\n",
      "[30, 14]\n",
      "[31, 44]\n",
      "[31, 68]\n",
      "[31, 78]\n",
      "[32, 11]\n",
      "[32, 15]\n",
      "[32, 20]\n",
      "[32, 45]\n",
      "[32, 70]\n",
      "[33, 17]\n",
      "[33, 22]\n",
      "[33, 25]\n",
      "[33, 31]\n",
      "[33, 36]\n",
      "[33, 43]\n",
      "[34, 44]\n",
      "[34, 68]\n",
      "[34, 78]\n",
      "[35, 1]\n",
      "[35, 8]\n",
      "[35, 48]\n",
      "[35, 61]\n",
      "[35, 63]\n",
      "[35, 75]\n",
      "[36, 10]\n",
      "[36, 34]\n",
      "[36, 40]\n",
      "[37, 10]\n",
      "[37, 34]\n",
      "[37, 40]\n",
      "[38, 9]\n",
      "[40, 21]\n",
      "[40, 80]\n",
      "[41, 10]\n",
      "[41, 34]\n",
      "[41, 40]\n",
      "[42, 77]\n",
      "[43, 44]\n",
      "[43, 68]\n",
      "[43, 78]\n",
      "[44, 1]\n",
      "[44, 8]\n",
      "[44, 48]\n",
      "[44, 61]\n",
      "[44, 63]\n",
      "[44, 75]\n",
      "[45, 18]\n",
      "[45, 52]\n",
      "[46, 10]\n",
      "[46, 34]\n",
      "[46, 40]\n",
      "[47, 21]\n",
      "[47, 80]\n",
      "[48, 10]\n",
      "[48, 34]\n",
      "[48, 40]\n",
      "[50, 10]\n",
      "[50, 34]\n",
      "[50, 40]\n",
      "[51, 21]\n",
      "[51, 80]\n",
      "[52, 35]\n",
      "[52, 42]\n",
      "[52, 47]\n",
      "[52, 49]\n",
      "[52, 59]\n",
      "[52, 60]\n",
      "[53, 1]\n",
      "[53, 8]\n",
      "[53, 48]\n",
      "[53, 61]\n",
      "[53, 63]\n",
      "[53, 75]\n",
      "[54, 9]\n",
      "[55, 0]\n",
      "[55, 19]\n",
      "[55, 37]\n",
      "[55, 62]\n",
      "[56, 1]\n",
      "[56, 8]\n",
      "[56, 48]\n",
      "[56, 61]\n",
      "[56, 63]\n",
      "[56, 75]\n",
      "[59, 10]\n",
      "[59, 34]\n",
      "[59, 40]\n",
      "[60, 10]\n",
      "[60, 34]\n",
      "[60, 40]\n",
      "[61, 2]\n",
      "[61, 3]\n",
      "[61, 24]\n",
      "[61, 33]\n",
      "[61, 51]\n",
      "[61, 54]\n",
      "[61, 55]\n",
      "[61, 57]\n",
      "[61, 66]\n",
      "[61, 73]\n",
      "[62, 9]\n",
      "[63, 4]\n",
      "[63, 6]\n",
      "[63, 16]\n",
      "[63, 23]\n",
      "[63, 56]\n",
      "[63, 64]\n",
      "[64, 14]\n",
      "[67, 44]\n",
      "[67, 68]\n",
      "[67, 78]\n",
      "[68, 44]\n",
      "[68, 78]\n",
      "[69, 44]\n",
      "[69, 68]\n",
      "[69, 78]\n",
      "[70, 4]\n",
      "[70, 6]\n",
      "[70, 16]\n",
      "[70, 23]\n",
      "[70, 56]\n",
      "[70, 64]\n",
      "[71, 44]\n",
      "[71, 68]\n",
      "[71, 78]\n",
      "[72, 21]\n",
      "[72, 80]\n",
      "[73, 21]\n",
      "[73, 80]\n",
      "[74, 9]\n",
      "[75, 10]\n",
      "[75, 34]\n",
      "[75, 40]\n",
      "[76, 10]\n",
      "[76, 34]\n",
      "[76, 40]\n",
      "[77, 10]\n",
      "[77, 34]\n",
      "[77, 40]\n",
      "[78, 44]\n",
      "[78, 68]\n",
      "[79, 10]\n",
      "[79, 34]\n",
      "[79, 40]\n",
      "[80, 44]\n",
      "[80, 68]\n",
      "[80, 78]\n"
     ]
    }
   ],
   "source": [
    "chains = []\n",
    "variants = permutations(range(len(cities)), 2)\n",
    "for i, chain in enumerate(variants):\n",
    "    if check_chain(chain):\n",
    "        #print(list(chain))\n",
    "        chains.append(list(chain))\n",
    "CHAINS_CONST = tuple(chains)"
   ]
  },
  {
   "cell_type": "code",
   "execution_count": 5,
   "id": "seventh-protocol",
   "metadata": {},
   "outputs": [
    {
     "data": {
      "application/vnd.jupyter.widget-view+json": {
       "model_id": "707a4a84d39841c9b1d40a7a737f218a",
       "version_major": 2,
       "version_minor": 0
      },
      "text/plain": [
       "  0%|          | 0/237 [00:00<?, ?it/s]"
      ]
     },
     "metadata": {},
     "output_type": "display_data"
    },
    {
     "data": {
      "text/plain": [
       "{0: [9],\n",
       " 1: [14],\n",
       " 2: [14],\n",
       " 3: [9],\n",
       " 4: [77],\n",
       " 5: [9],\n",
       " 6: [14],\n",
       " 7: [21, 80],\n",
       " 8: [44, 68, 78],\n",
       " 9: [44, 68, 78],\n",
       " 10: [11, 15, 20, 45, 70],\n",
       " 11: [14],\n",
       " 12: [2, 3, 24, 33, 51, 54, 55, 57, 66, 73],\n",
       " 13: [21, 80],\n",
       " 14: [17, 22, 25, 31, 36, 43],\n",
       " 15: [44, 68, 78],\n",
       " 16: [44, 68, 78],\n",
       " 17: [2, 3, 24, 33, 51, 54, 55, 57, 66, 73],\n",
       " 18: [9],\n",
       " 19: [10, 34, 40],\n",
       " 20: [44, 68, 78],\n",
       " 22: [2, 3, 24, 33, 51, 54, 55, 57, 66, 73],\n",
       " 23: [41, 76],\n",
       " 24: [10, 34, 40],\n",
       " 27: [2, 3, 24, 33, 51, 54, 55, 57, 66, 73],\n",
       " 29: [44, 68, 78],\n",
       " 30: [14],\n",
       " 31: [44, 68, 78],\n",
       " 32: [11, 15, 20, 45, 70],\n",
       " 33: [17, 22, 25, 31, 36, 43],\n",
       " 34: [44, 68, 78],\n",
       " 35: [1, 8, 48, 61, 63, 75],\n",
       " 36: [10, 34, 40],\n",
       " 37: [10, 34, 40],\n",
       " 38: [9],\n",
       " 40: [21, 80],\n",
       " 41: [10, 34, 40],\n",
       " 42: [77],\n",
       " 43: [44, 68, 78],\n",
       " 44: [1, 8, 48, 61, 63, 75],\n",
       " 45: [18, 52],\n",
       " 46: [10, 34, 40],\n",
       " 47: [21, 80],\n",
       " 48: [10, 34, 40],\n",
       " 50: [10, 34, 40],\n",
       " 51: [21, 80],\n",
       " 52: [35, 42, 47, 49, 59, 60],\n",
       " 53: [1, 8, 48, 61, 63, 75],\n",
       " 54: [9],\n",
       " 55: [0, 19, 37, 62],\n",
       " 56: [1, 8, 48, 61, 63, 75],\n",
       " 59: [10, 34, 40],\n",
       " 60: [10, 34, 40],\n",
       " 61: [2, 3, 24, 33, 51, 54, 55, 57, 66, 73],\n",
       " 62: [9],\n",
       " 63: [4, 6, 16, 23, 56, 64],\n",
       " 64: [14],\n",
       " 67: [44, 68, 78],\n",
       " 68: [44, 78],\n",
       " 69: [44, 68, 78],\n",
       " 70: [4, 6, 16, 23, 56, 64],\n",
       " 71: [44, 68, 78],\n",
       " 72: [21, 80],\n",
       " 73: [21, 80],\n",
       " 74: [9],\n",
       " 75: [10, 34, 40],\n",
       " 76: [10, 34, 40],\n",
       " 77: [10, 34, 40],\n",
       " 78: [44, 68],\n",
       " 79: [10, 34, 40],\n",
       " 80: [44, 68, 78]}"
      ]
     },
     "execution_count": 5,
     "metadata": {},
     "output_type": "execute_result"
    }
   ],
   "source": [
    "chains = {}\n",
    "for c in tqdm(CHAINS_CONST): \n",
    "    if c[0] in chains:\n",
    "        chains[c[0]].append(c[1])\n",
    "    else:\n",
    "        chains[c[0]] = [c[1]]\n",
    "chains            "
   ]
  },
  {
   "cell_type": "code",
   "execution_count": 6,
   "id": "indie-essence",
   "metadata": {},
   "outputs": [
    {
     "name": "stdout",
     "output_type": "stream",
     "text": [
      "Tokyo ['Osaka']\n",
      "Delhi ['Istanbul']\n",
      "Shanghai ['Istanbul']\n",
      "San Paulo ['Osaka']\n",
      "Mexico City ['Yangon']\n",
      "Cairo ['Osaka']\n",
      "Mumbai ['Istanbul']\n",
      "Beijing ['Guangzhou', 'Guadalajara']\n",
      "Dhaka ['Ahmedabad', 'Atlanta', 'Alexandria']\n",
      "Osaka ['Ahmedabad', 'Atlanta', 'Alexandria']\n",
      "New York ['Karachi', 'Kolkata', 'Kinshasa', 'Kuala Lumpur', 'Khartoum']\n",
      "Karachi ['Istanbul']\n",
      "Buenos Aires ['Shanghai', 'San Paulo', 'Shenzhen', 'Seoul', 'Shenyang', 'Santiago', 'Surat', 'Suzhou', 'Singapore', 'Saint Petersburg']\n",
      "Chongqing ['Guangzhou', 'Guadalajara']\n",
      "Istanbul ['Lagos', 'Los Angeles', 'Lahore', 'Lima', 'London', 'Luanda']\n",
      "Kolkata ['Ahmedabad', 'Atlanta', 'Alexandria']\n",
      "Manila ['Ahmedabad', 'Atlanta', 'Alexandria']\n",
      "Lagos ['Shanghai', 'San Paulo', 'Shenzhen', 'Seoul', 'Shenyang', 'Santiago', 'Surat', 'Suzhou', 'Singapore', 'Saint Petersburg']\n",
      "Rio de Janeiro ['Osaka']\n",
      "Tianjin ['New York', 'Nagoya', 'Nanjing']\n",
      "Kinshasa ['Ahmedabad', 'Atlanta', 'Alexandria']\n",
      "Guangzhou\n",
      "Los Angeles ['Shanghai', 'San Paulo', 'Shenzhen', 'Seoul', 'Shenyang', 'Santiago', 'Surat', 'Suzhou', 'Singapore', 'Saint Petersburg']\n",
      "Moscow ['Wuhan', 'Washington']\n",
      "Shenzhen ['New York', 'Nagoya', 'Nanjing']\n",
      "Lahore\n",
      "Bangalore\n",
      "Paris ['Shanghai', 'San Paulo', 'Shenzhen', 'Seoul', 'Shenyang', 'Santiago', 'Surat', 'Suzhou', 'Singapore', 'Saint Petersburg']\n",
      "Bogot?\n",
      "Jakarta ['Ahmedabad', 'Atlanta', 'Alexandria']\n",
      "Chennai ['Istanbul']\n",
      "Lima ['Ahmedabad', 'Atlanta', 'Alexandria']\n",
      "Bangkok ['Karachi', 'Kolkata', 'Kinshasa', 'Kuala Lumpur', 'Khartoum']\n",
      "Seoul ['Lagos', 'Los Angeles', 'Lahore', 'Lima', 'London', 'Luanda']\n",
      "Nagoya ['Ahmedabad', 'Atlanta', 'Alexandria']\n",
      "Hyderabad ['Delhi', 'Dhaka', 'Dongguan', 'Dallas', 'Dar es Salaam', 'Dalian']\n",
      "London ['New York', 'Nagoya', 'Nanjing']\n",
      "Tehran ['New York', 'Nagoya', 'Nanjing']\n",
      "Chicago ['Osaka']\n",
      "Chengdu\n",
      "Nanjing ['Guangzhou', 'Guadalajara']\n",
      "Wuhan ['New York', 'Nagoya', 'Nanjing']\n",
      "Ho Chi Minh City ['Yangon']\n",
      "Luanda ['Ahmedabad', 'Atlanta', 'Alexandria']\n",
      "Ahmedabad ['Delhi', 'Dhaka', 'Dongguan', 'Dallas', 'Dar es Salaam', 'Dalian']\n",
      "Kuala Lumpur ['Rio de Janeiro', 'Riyadh']\n",
      "Xi'an ['New York', 'Nagoya', 'Nanjing']\n",
      "Hong Kong ['Guangzhou', 'Guadalajara']\n",
      "Dongguan ['New York', 'Nagoya', 'Nanjing']\n",
      "Hangzhou\n",
      "Foshan ['New York', 'Nagoya', 'Nanjing']\n",
      "Shenyang ['Guangzhou', 'Guadalajara']\n",
      "Riyadh ['Hyderabad', 'Ho Chi Minh City', 'Hong Kong', 'Hangzhou', 'Harbin', 'Houston']\n",
      "Baghdad ['Delhi', 'Dhaka', 'Dongguan', 'Dallas', 'Dar es Salaam', 'Dalian']\n",
      "Santiago ['Osaka']\n",
      "Surat ['Tokyo', 'Tianjin', 'Tehran', 'Toronto']\n",
      "Madrid ['Delhi', 'Dhaka', 'Dongguan', 'Dallas', 'Dar es Salaam', 'Dalian']\n",
      "Suzhou\n",
      "Pune\n",
      "Harbin ['New York', 'Nagoya', 'Nanjing']\n",
      "Houston ['New York', 'Nagoya', 'Nanjing']\n",
      "Dallas ['Shanghai', 'San Paulo', 'Shenzhen', 'Seoul', 'Shenyang', 'Santiago', 'Surat', 'Suzhou', 'Singapore', 'Saint Petersburg']\n",
      "Toronto ['Osaka']\n",
      "Dar es Salaam ['Mexico City', 'Mumbai', 'Manila', 'Moscow', 'Madrid', 'Miami']\n",
      "Miami ['Istanbul']\n",
      "Belo Horizonte\n",
      "Singapore\n",
      "Philadelphia ['Ahmedabad', 'Atlanta', 'Alexandria']\n",
      "Atlanta ['Ahmedabad', 'Alexandria']\n",
      "Fukuoka ['Ahmedabad', 'Atlanta', 'Alexandria']\n",
      "Khartoum ['Mexico City', 'Mumbai', 'Manila', 'Moscow', 'Madrid', 'Miami']\n",
      "Barcelona ['Ahmedabad', 'Atlanta', 'Alexandria']\n",
      "Johannesburg ['Guangzhou', 'Guadalajara']\n",
      "Saint Petersburg ['Guangzhou', 'Guadalajara']\n",
      "Qingdao ['Osaka']\n",
      "Dalian ['New York', 'Nagoya', 'Nanjing']\n",
      "Washington ['New York', 'Nagoya', 'Nanjing']\n",
      "Yangon ['New York', 'Nagoya', 'Nanjing']\n",
      "Alexandria ['Ahmedabad', 'Atlanta']\n",
      "Jinan ['New York', 'Nagoya', 'Nanjing']\n",
      "Guadalajara ['Ahmedabad', 'Atlanta', 'Alexandria']\n"
     ]
    }
   ],
   "source": [
    "for i in range(len(cities)):\n",
    "    if i in chains:\n",
    "        names = [cities[x] for x in chains[i]]\n",
    "        print(cities[i], names)\n",
    "    else:\n",
    "        print(cities[i])"
   ]
  },
  {
   "cell_type": "code",
   "execution_count": 7,
   "id": "electric-highlight",
   "metadata": {},
   "outputs": [
    {
     "data": {
      "text/plain": [
       "<AxesSubplot:>"
      ]
     },
     "execution_count": 7,
     "metadata": {},
     "output_type": "execute_result"
    },
    {
     "data": {
      "image/png": "[encoded data removed]",
      "text/plain": [
       "<Figure size 1008x1008 with 1 Axes>"
      ]
     },
     "metadata": {
      "needs_background": "light"
     },
     "output_type": "display_data"
    }
   ],
   "source": [
    "plt.figure(figsize = (14,14))\n",
    "sns.barplot(y = cities, x = [len(chains[x]) if x in chains else 0 for x in range(len(cities))])"
   ]
  },
  {
   "cell_type": "code",
   "execution_count": 8,
   "id": "completed-intake",
   "metadata": {},
   "outputs": [
    {
     "data": {
      "application/vnd.jupyter.widget-view+json": {
       "model_id": "9d4da5509543454cb4698a5048cb354c",
       "version_major": 2,
       "version_minor": 0
      },
      "text/plain": [
       "  0%|          | 0/237 [00:00<?, ?it/s]"
      ]
     },
     "metadata": {},
     "output_type": "display_data"
    },
    {
     "name": "stdout",
     "output_type": "stream",
     "text": [
      "3 length found: 719 chains\n"
     ]
    },
    {
     "data": {
      "application/vnd.jupyter.widget-view+json": {
       "model_id": "7f95798075064bb48e9e98ff8c1a77a4",
       "version_major": 2,
       "version_minor": 0
      },
      "text/plain": [
       "  0%|          | 0/719 [00:00<?, ?it/s]"
      ]
     },
     "metadata": {},
     "output_type": "display_data"
    },
    {
     "name": "stdout",
     "output_type": "stream",
     "text": [
      "4 length found: 2284 chains\n"
     ]
    },
    {
     "data": {
      "application/vnd.jupyter.widget-view+json": {
       "model_id": "ec872c5f27cd48b89e313f854c31f724",
       "version_major": 2,
       "version_minor": 0
      },
      "text/plain": [
       "  0%|          | 0/2284 [00:00<?, ?it/s]"
      ]
     },
     "metadata": {},
     "output_type": "display_data"
    },
    {
     "name": "stdout",
     "output_type": "stream",
     "text": [
      "5 length found: 7055 chains\n"
     ]
    },
    {
     "data": {
      "application/vnd.jupyter.widget-view+json": {
       "model_id": "02ecd0a9a17549338cf4defc5c8ea259",
       "version_major": 2,
       "version_minor": 0
      },
      "text/plain": [
       "  0%|          | 0/7055 [00:00<?, ?it/s]"
      ]
     },
     "metadata": {},
     "output_type": "display_data"
    },
    {
     "name": "stdout",
     "output_type": "stream",
     "text": [
      "6 length found: 20834 chains\n"
     ]
    },
    {
     "data": {
      "application/vnd.jupyter.widget-view+json": {
       "model_id": "220b0d93a00f4013820611e04f08deb3",
       "version_major": 2,
       "version_minor": 0
      },
      "text/plain": [
       "  0%|          | 0/20834 [00:00<?, ?it/s]"
      ]
     },
     "metadata": {},
     "output_type": "display_data"
    },
    {
     "name": "stdout",
     "output_type": "stream",
     "text": [
      "7 length found: 56680 chains\n"
     ]
    },
    {
     "data": {
      "application/vnd.jupyter.widget-view+json": {
       "model_id": "63f19408ea804e07915096de29a7ea31",
       "version_major": 2,
       "version_minor": 0
      },
      "text/plain": [
       "  0%|          | 0/56680 [00:00<?, ?it/s]"
      ]
     },
     "metadata": {},
     "output_type": "display_data"
    },
    {
     "name": "stdout",
     "output_type": "stream",
     "text": [
      "8 length found: 142987 chains\n"
     ]
    },
    {
     "data": {
      "application/vnd.jupyter.widget-view+json": {
       "model_id": "dc5aa663f9894372989bfd744ee66004",
       "version_major": 2,
       "version_minor": 0
      },
      "text/plain": [
       "  0%|          | 0/142987 [00:00<?, ?it/s]"
      ]
     },
     "metadata": {},
     "output_type": "display_data"
    },
    {
     "name": "stdout",
     "output_type": "stream",
     "text": [
      "9 length found: 336604 chains\n"
     ]
    },
    {
     "data": {
      "application/vnd.jupyter.widget-view+json": {
       "model_id": "06563781069d4e6ab6ba66d0b8e69b80",
       "version_major": 2,
       "version_minor": 0
      },
      "text/plain": [
       "  0%|          | 0/336604 [00:00<?, ?it/s]"
      ]
     },
     "metadata": {},
     "output_type": "display_data"
    },
    {
     "name": "stdout",
     "output_type": "stream",
     "text": [
      "10 length found: 737508 chains\n"
     ]
    },
    {
     "data": {
      "application/vnd.jupyter.widget-view+json": {
       "model_id": "0af6b73f42614a189efaa1e6a97b1c71",
       "version_major": 2,
       "version_minor": 0
      },
      "text/plain": [
       "  0%|          | 0/737508 [00:00<?, ?it/s]"
      ]
     },
     "metadata": {},
     "output_type": "display_data"
    },
    {
     "name": "stdout",
     "output_type": "stream",
     "text": [
      "11 length found: 1503493 chains\n"
     ]
    },
    {
     "data": {
      "application/vnd.jupyter.widget-view+json": {
       "model_id": "1e5a324191c74050a059765db76ffbd0",
       "version_major": 2,
       "version_minor": 0
      },
      "text/plain": [
       "  0%|          | 0/1503493 [00:00<?, ?it/s]"
      ]
     },
     "metadata": {},
     "output_type": "display_data"
    },
    {
     "name": "stdout",
     "output_type": "stream",
     "text": [
      "12 length found: 2843103 chains\n"
     ]
    },
    {
     "data": {
      "application/vnd.jupyter.widget-view+json": {
       "model_id": "5a443b6e73344987b1071fb1722cd90e",
       "version_major": 2,
       "version_minor": 0
      },
      "text/plain": [
       "  0%|          | 0/2843103 [00:00<?, ?it/s]"
      ]
     },
     "metadata": {},
     "output_type": "display_data"
    },
    {
     "name": "stdout",
     "output_type": "stream",
     "text": [
      "13 length found: 4968294 chains\n"
     ]
    },
    {
     "data": {
      "application/vnd.jupyter.widget-view+json": {
       "model_id": "a37cfa64e75947efa39952638a5ebc5c",
       "version_major": 2,
       "version_minor": 0
      },
      "text/plain": [
       "  0%|          | 0/4968294 [00:00<?, ?it/s]"
      ]
     },
     "metadata": {},
     "output_type": "display_data"
    },
    {
     "name": "stdout",
     "output_type": "stream",
     "text": [
      "14 length found: 7971279 chains\n"
     ]
    },
    {
     "data": {
      "application/vnd.jupyter.widget-view+json": {
       "model_id": "4b917ff006db473595c800c497efda5f",
       "version_major": 2,
       "version_minor": 0
      },
      "text/plain": [
       "  0%|          | 0/7971279 [00:00<?, ?it/s]"
      ]
     },
     "metadata": {},
     "output_type": "display_data"
    },
    {
     "name": "stdout",
     "output_type": "stream",
     "text": [
      "15 length found: 11609441 chains\n"
     ]
    },
    {
     "data": {
      "application/vnd.jupyter.widget-view+json": {
       "model_id": "137a63b5f2c840a29150a8da393d7c46",
       "version_major": 2,
       "version_minor": 0
      },
      "text/plain": [
       "  0%|          | 0/11609441 [00:00<?, ?it/s]"
      ]
     },
     "metadata": {},
     "output_type": "display_data"
    },
    {
     "name": "stdout",
     "output_type": "stream",
     "text": [
      "16 length found: 15198830 chains\n"
     ]
    },
    {
     "data": {
      "application/vnd.jupyter.widget-view+json": {
       "model_id": "e4b049f499a844ff8569606f6c96f67f",
       "version_major": 2,
       "version_minor": 0
      },
      "text/plain": [
       "  0%|          | 0/15198830 [00:00<?, ?it/s]"
      ]
     },
     "metadata": {},
     "output_type": "display_data"
    },
    {
     "name": "stdout",
     "output_type": "stream",
     "text": [
      "17 length found: 17687409 chains\n"
     ]
    },
    {
     "data": {
      "application/vnd.jupyter.widget-view+json": {
       "model_id": "ec1d5bbe35574abdb99fdb22f147b396",
       "version_major": 2,
       "version_minor": 0
      },
      "text/plain": [
       "  0%|          | 0/17687409 [00:00<?, ?it/s]"
      ]
     },
     "metadata": {},
     "output_type": "display_data"
    },
    {
     "name": "stdout",
     "output_type": "stream",
     "text": [
      "18 length found: 18086401 chains\n"
     ]
    },
    {
     "data": {
      "application/vnd.jupyter.widget-view+json": {
       "model_id": "25e23ae718744d8e99b69c90fe329216",
       "version_major": 2,
       "version_minor": 0
      },
      "text/plain": [
       "  0%|          | 0/18086401 [00:00<?, ?it/s]"
      ]
     },
     "metadata": {},
     "output_type": "display_data"
    },
    {
     "name": "stdout",
     "output_type": "stream",
     "text": [
      "19 length found: 16059202 chains\n"
     ]
    },
    {
     "data": {
      "application/vnd.jupyter.widget-view+json": {
       "model_id": "7405a323f2df4ae88f333f4663e8d7b9",
       "version_major": 2,
       "version_minor": 0
      },
      "text/plain": [
       "  0%|          | 0/16059202 [00:00<?, ?it/s]"
      ]
     },
     "metadata": {},
     "output_type": "display_data"
    },
    {
     "name": "stdout",
     "output_type": "stream",
     "text": [
      "20 length found: 12214188 chains\n"
     ]
    },
    {
     "data": {
      "application/vnd.jupyter.widget-view+json": {
       "model_id": "c107c3b60cb54190ba3732bd72431aa1",
       "version_major": 2,
       "version_minor": 0
      },
      "text/plain": [
       "  0%|          | 0/12214188 [00:00<?, ?it/s]"
      ]
     },
     "metadata": {},
     "output_type": "display_data"
    },
    {
     "name": "stdout",
     "output_type": "stream",
     "text": [
      "21 length found: 7807536 chains\n"
     ]
    },
    {
     "data": {
      "application/vnd.jupyter.widget-view+json": {
       "model_id": "0ba04cb3680844dab1b33463213072e6",
       "version_major": 2,
       "version_minor": 0
      },
      "text/plain": [
       "  0%|          | 0/7807536 [00:00<?, ?it/s]"
      ]
     },
     "metadata": {},
     "output_type": "display_data"
    },
    {
     "name": "stdout",
     "output_type": "stream",
     "text": [
      "22 length found: 4104252 chains\n"
     ]
    },
    {
     "data": {
      "application/vnd.jupyter.widget-view+json": {
       "model_id": "35934f00a9554b5e877734d7481c419f",
       "version_major": 2,
       "version_minor": 0
      },
      "text/plain": [
       "  0%|          | 0/4104252 [00:00<?, ?it/s]"
      ]
     },
     "metadata": {},
     "output_type": "display_data"
    },
    {
     "name": "stdout",
     "output_type": "stream",
     "text": [
      "23 length found: 1666768 chains\n"
     ]
    },
    {
     "data": {
      "application/vnd.jupyter.widget-view+json": {
       "model_id": "50f60feaf3d742c4b123447a78452b00",
       "version_major": 2,
       "version_minor": 0
      },
      "text/plain": [
       "  0%|          | 0/1666768 [00:00<?, ?it/s]"
      ]
     },
     "metadata": {},
     "output_type": "display_data"
    },
    {
     "name": "stdout",
     "output_type": "stream",
     "text": [
      "24 length found: 511536 chains\n"
     ]
    },
    {
     "data": {
      "application/vnd.jupyter.widget-view+json": {
       "model_id": "7f330e59c76d4b58b262dd4bf1453dec",
       "version_major": 2,
       "version_minor": 0
      },
      "text/plain": [
       "  0%|          | 0/511536 [00:00<?, ?it/s]"
      ]
     },
     "metadata": {},
     "output_type": "display_data"
    },
    {
     "name": "stdout",
     "output_type": "stream",
     "text": [
      "25 length found: 101408 chains\n"
     ]
    },
    {
     "data": {
      "application/vnd.jupyter.widget-view+json": {
       "model_id": "2216ba42846a4882b9bddb8c92b7f5c3",
       "version_major": 2,
       "version_minor": 0
      },
      "text/plain": [
       "  0%|          | 0/101408 [00:00<?, ?it/s]"
      ]
     },
     "metadata": {},
     "output_type": "display_data"
    },
    {
     "name": "stdout",
     "output_type": "stream",
     "text": [
      "Wall time: 1h 28min 50s\n"
     ]
    }
   ],
   "source": [
    "%%time\n",
    "all_chains = {}\n",
    "chains = list(CHAINS_CONST)\n",
    "\n",
    "for step in range(len(CHAINS_CONST)):\n",
    "#for step in range(3):\n",
    "    \n",
    "    if 'chains_temp' in locals(): del chains_temp; gc.collect()\n",
    "    chains_temp = []\n",
    "    flag = True\n",
    "    for c in tqdm(chains):\n",
    "        for c1 in CHAINS_CONST:\n",
    "            if c[len(c) - 1] == c1[0] and c1[1] not in c:\n",
    "                #a = list(c) # faster works, but need more memory\n",
    "                a = array.array('I', c) # low memory usage\n",
    "                a.append(c1[1])\n",
    "                chains_temp.append(a)\n",
    "                flag = False\n",
    "    if flag == True: break\n",
    "    del chains\n",
    "    chains = chains_temp\n",
    "\n",
    "    \n",
    "    print(step+3, \"length found:\", len(chains), \"chains\")\n",
    "    all_chains[step+3] = len(chains)"
   ]
  },
  {
   "cell_type": "code",
   "execution_count": 9,
   "id": "operational-reference",
   "metadata": {},
   "outputs": [
    {
     "data": {
      "text/plain": [
       "{3: 719,\n",
       " 4: 2284,\n",
       " 5: 7055,\n",
       " 6: 20834,\n",
       " 7: 56680,\n",
       " 8: 142987,\n",
       " 9: 336604,\n",
       " 10: 737508,\n",
       " 11: 1503493,\n",
       " 12: 2843103,\n",
       " 13: 4968294,\n",
       " 14: 7971279,\n",
       " 15: 11609441,\n",
       " 16: 15198830,\n",
       " 17: 17687409,\n",
       " 18: 18086401,\n",
       " 19: 16059202,\n",
       " 20: 12214188,\n",
       " 21: 7807536,\n",
       " 22: 4104252,\n",
       " 23: 1666768,\n",
       " 24: 511536,\n",
       " 25: 101408}"
      ]
     },
     "execution_count": 9,
     "metadata": {},
     "output_type": "execute_result"
    }
   ],
   "source": [
    "all_chains"
   ]
  },
  {
   "cell_type": "code",
   "execution_count": 10,
   "id": "conditional-microphone",
   "metadata": {},
   "outputs": [
    {
     "data": {
      "text/plain": [
       "<AxesSubplot:>"
      ]
     },
     "execution_count": 10,
     "metadata": {},
     "output_type": "execute_result"
    },
    {
     "data": {
      "image/png": "[encoded data removed]",
      "text/plain": [
       "<Figure size 432x288 with 1 Axes>"
      ]
     },
     "metadata": {
      "needs_background": "light"
     },
     "output_type": "display_data"
    }
   ],
   "source": [
    "sns.barplot(x = list(all_chains.keys()), y = list(all_chains.values()))"
   ]
  },
  {
   "cell_type": "code",
   "execution_count": 11,
   "id": "centered-technology",
   "metadata": {},
   "outputs": [
    {
     "name": "stdout",
     "output_type": "stream",
     "text": [
      "Chain Lenght: 25 ['Bangkok', 'Kuala Lumpur', 'Riyadh', 'Hyderabad', 'Delhi', 'Istanbul', 'Lagos', 'San Paulo', 'Osaka', 'Ahmedabad', 'Dallas', 'Seoul', 'Los Angeles', 'Surat', 'Tianjin', 'New York', 'Khartoum', 'Madrid', 'Dar es Salaam', 'Mexico City', 'Yangon', 'Nanjing', 'Guadalajara', 'Atlanta', 'Alexandria']\n",
      "Chain Lenght: 25 ['Bangkok', 'Kuala Lumpur', 'Riyadh', 'Hyderabad', 'Delhi', 'Istanbul', 'Lagos', 'San Paulo', 'Osaka', 'Ahmedabad', 'Dallas', 'Seoul', 'Los Angeles', 'Surat', 'Tianjin', 'New York', 'Khartoum', 'Madrid', 'Dar es Salaam', 'Mexico City', 'Yangon', 'Nanjing', 'Guadalajara', 'Alexandria', 'Atlanta']\n",
      "Chain Lenght: 25 ['Bangkok', 'Kuala Lumpur', 'Riyadh', 'Hyderabad', 'Delhi', 'Istanbul', 'Lagos', 'San Paulo', 'Osaka', 'Ahmedabad', 'Dallas', 'Seoul', 'Los Angeles', 'Surat', 'Tianjin', 'New York', 'Khartoum', 'Madrid', 'Dar es Salaam', 'Moscow', 'Wuhan', 'Nanjing', 'Guadalajara', 'Atlanta', 'Alexandria']\n",
      "Chain Lenght: 25 ['Bangkok', 'Kuala Lumpur', 'Riyadh', 'Hyderabad', 'Delhi', 'Istanbul', 'Lagos', 'San Paulo', 'Osaka', 'Ahmedabad', 'Dallas', 'Seoul', 'Los Angeles', 'Surat', 'Tianjin', 'New York', 'Khartoum', 'Madrid', 'Dar es Salaam', 'Moscow', 'Wuhan', 'Nanjing', 'Guadalajara', 'Alexandria', 'Atlanta']\n",
      "Chain Lenght: 25 ['Bangkok', 'Kuala Lumpur', 'Riyadh', 'Hyderabad', 'Delhi', 'Istanbul', 'Lagos', 'San Paulo', 'Osaka', 'Ahmedabad', 'Dallas', 'Seoul', 'Los Angeles', 'Surat', 'Tianjin', 'New York', 'Khartoum', 'Madrid', 'Dar es Salaam', 'Moscow', 'Washington', 'Nanjing', 'Guadalajara', 'Atlanta', 'Alexandria']\n",
      "Chain Lenght: 25 ['Bangkok', 'Kuala Lumpur', 'Riyadh', 'Hyderabad', 'Delhi', 'Istanbul', 'Lagos', 'San Paulo', 'Osaka', 'Ahmedabad', 'Dallas', 'Seoul', 'Los Angeles', 'Surat', 'Tianjin', 'New York', 'Khartoum', 'Madrid', 'Dar es Salaam', 'Moscow', 'Washington', 'Nanjing', 'Guadalajara', 'Alexandria', 'Atlanta']\n",
      "Chain Lenght: 25 ['Bangkok', 'Kuala Lumpur', 'Riyadh', 'Hyderabad', 'Delhi', 'Istanbul', 'Lagos', 'San Paulo', 'Osaka', 'Ahmedabad', 'Dallas', 'Seoul', 'Los Angeles', 'Surat', 'Tehran', 'New York', 'Khartoum', 'Madrid', 'Dar es Salaam', 'Mexico City', 'Yangon', 'Nanjing', 'Guadalajara', 'Atlanta', 'Alexandria']\n",
      "Chain Lenght: 25 ['Bangkok', 'Kuala Lumpur', 'Riyadh', 'Hyderabad', 'Delhi', 'Istanbul', 'Lagos', 'San Paulo', 'Osaka', 'Ahmedabad', 'Dallas', 'Seoul', 'Los Angeles', 'Surat', 'Tehran', 'New York', 'Khartoum', 'Madrid', 'Dar es Salaam', 'Mexico City', 'Yangon', 'Nanjing', 'Guadalajara', 'Alexandria', 'Atlanta']\n",
      "Chain Lenght: 25 ['Bangkok', 'Kuala Lumpur', 'Riyadh', 'Hyderabad', 'Delhi', 'Istanbul', 'Lagos', 'San Paulo', 'Osaka', 'Ahmedabad', 'Dallas', 'Seoul', 'Los Angeles', 'Surat', 'Tehran', 'New York', 'Khartoum', 'Madrid', 'Dar es Salaam', 'Moscow', 'Wuhan', 'Nanjing', 'Guadalajara', 'Atlanta', 'Alexandria']\n",
      "Chain Lenght: 25 ['Bangkok', 'Kuala Lumpur', 'Riyadh', 'Hyderabad', 'Delhi', 'Istanbul', 'Lagos', 'San Paulo', 'Osaka', 'Ahmedabad', 'Dallas', 'Seoul', 'Los Angeles', 'Surat', 'Tehran', 'New York', 'Khartoum', 'Madrid', 'Dar es Salaam', 'Moscow', 'Wuhan', 'Nanjing', 'Guadalajara', 'Alexandria', 'Atlanta']\n",
      "Chain Lenght: 25 ['Bangkok', 'Kuala Lumpur', 'Riyadh', 'Hyderabad', 'Delhi', 'Istanbul', 'Lagos', 'San Paulo', 'Osaka', 'Ahmedabad', 'Dallas', 'Seoul', 'Los Angeles', 'Surat', 'Tehran', 'New York', 'Khartoum', 'Madrid', 'Dar es Salaam', 'Moscow', 'Washington', 'Nanjing', 'Guadalajara', 'Atlanta', 'Alexandria']\n",
      "Chain Lenght: 25 ['Bangkok', 'Kuala Lumpur', 'Riyadh', 'Hyderabad', 'Delhi', 'Istanbul', 'Lagos', 'San Paulo', 'Osaka', 'Ahmedabad', 'Dallas', 'Seoul', 'Los Angeles', 'Surat', 'Tehran', 'New York', 'Khartoum', 'Madrid', 'Dar es Salaam', 'Moscow', 'Washington', 'Nanjing', 'Guadalajara', 'Alexandria', 'Atlanta']\n",
      "Chain Lenght: 25 ['Bangkok', 'Kuala Lumpur', 'Riyadh', 'Hyderabad', 'Delhi', 'Istanbul', 'Lagos', 'San Paulo', 'Osaka', 'Ahmedabad', 'Dar es Salaam', 'Mexico City', 'Yangon', 'New York', 'Khartoum', 'Madrid', 'Dallas', 'Seoul', 'Los Angeles', 'Surat', 'Tianjin', 'Nanjing', 'Guadalajara', 'Atlanta', 'Alexandria']\n",
      "Chain Lenght: 25 ['Bangkok', 'Kuala Lumpur', 'Riyadh', 'Hyderabad', 'Delhi', 'Istanbul', 'Lagos', 'San Paulo', 'Osaka', 'Ahmedabad', 'Dar es Salaam', 'Mexico City', 'Yangon', 'New York', 'Khartoum', 'Madrid', 'Dallas', 'Seoul', 'Los Angeles', 'Surat', 'Tianjin', 'Nanjing', 'Guadalajara', 'Alexandria', 'Atlanta']\n",
      "Chain Lenght: 25 ['Bangkok', 'Kuala Lumpur', 'Riyadh', 'Hyderabad', 'Delhi', 'Istanbul', 'Lagos', 'San Paulo', 'Osaka', 'Ahmedabad', 'Dar es Salaam', 'Mexico City', 'Yangon', 'New York', 'Khartoum', 'Madrid', 'Dallas', 'Seoul', 'Los Angeles', 'Surat', 'Tehran', 'Nanjing', 'Guadalajara', 'Atlanta', 'Alexandria']\n",
      "Chain Lenght: 25 ['Bangkok', 'Kuala Lumpur', 'Riyadh', 'Hyderabad', 'Delhi', 'Istanbul', 'Lagos', 'San Paulo', 'Osaka', 'Ahmedabad', 'Dar es Salaam', 'Mexico City', 'Yangon', 'New York', 'Khartoum', 'Madrid', 'Dallas', 'Seoul', 'Los Angeles', 'Surat', 'Tehran', 'Nanjing', 'Guadalajara', 'Alexandria', 'Atlanta']\n",
      "Chain Lenght: 25 ['Bangkok', 'Kuala Lumpur', 'Riyadh', 'Hyderabad', 'Delhi', 'Istanbul', 'Lagos', 'San Paulo', 'Osaka', 'Ahmedabad', 'Dar es Salaam', 'Moscow', 'Wuhan', 'New York', 'Khartoum', 'Madrid', 'Dallas', 'Seoul', 'Los Angeles', 'Surat', 'Tianjin', 'Nanjing', 'Guadalajara', 'Atlanta', 'Alexandria']\n",
      "Chain Lenght: 25 ['Bangkok', 'Kuala Lumpur', 'Riyadh', 'Hyderabad', 'Delhi', 'Istanbul', 'Lagos', 'San Paulo', 'Osaka', 'Ahmedabad', 'Dar es Salaam', 'Moscow', 'Wuhan', 'New York', 'Khartoum', 'Madrid', 'Dallas', 'Seoul', 'Los Angeles', 'Surat', 'Tianjin', 'Nanjing', 'Guadalajara', 'Alexandria', 'Atlanta']\n",
      "Chain Lenght: 25 ['Bangkok', 'Kuala Lumpur', 'Riyadh', 'Hyderabad', 'Delhi', 'Istanbul', 'Lagos', 'San Paulo', 'Osaka', 'Ahmedabad', 'Dar es Salaam', 'Moscow', 'Wuhan', 'New York', 'Khartoum', 'Madrid', 'Dallas', 'Seoul', 'Los Angeles', 'Surat', 'Tehran', 'Nanjing', 'Guadalajara', 'Atlanta', 'Alexandria']\n",
      "Chain Lenght: 25 ['Bangkok', 'Kuala Lumpur', 'Riyadh', 'Hyderabad', 'Delhi', 'Istanbul', 'Lagos', 'San Paulo', 'Osaka', 'Ahmedabad', 'Dar es Salaam', 'Moscow', 'Wuhan', 'New York', 'Khartoum', 'Madrid', 'Dallas', 'Seoul', 'Los Angeles', 'Surat', 'Tehran', 'Nanjing', 'Guadalajara', 'Alexandria', 'Atlanta']\n",
      "Chain Lenght: 25 ['Bangkok', 'Kuala Lumpur', 'Riyadh', 'Hyderabad', 'Delhi', 'Istanbul', 'Lagos', 'San Paulo', 'Osaka', 'Ahmedabad', 'Dar es Salaam', 'Moscow', 'Washington', 'New York', 'Khartoum', 'Madrid', 'Dallas', 'Seoul', 'Los Angeles', 'Surat', 'Tianjin', 'Nanjing', 'Guadalajara', 'Atlanta', 'Alexandria']\n",
      "Chain Lenght: 25 ['Bangkok', 'Kuala Lumpur', 'Riyadh', 'Hyderabad', 'Delhi', 'Istanbul', 'Lagos', 'San Paulo', 'Osaka', 'Ahmedabad', 'Dar es Salaam', 'Moscow', 'Washington', 'New York', 'Khartoum', 'Madrid', 'Dallas', 'Seoul', 'Los Angeles', 'Surat', 'Tianjin', 'Nanjing', 'Guadalajara', 'Alexandria', 'Atlanta']\n",
      "Chain Lenght: 25 ['Bangkok', 'Kuala Lumpur', 'Riyadh', 'Hyderabad', 'Delhi', 'Istanbul', 'Lagos', 'San Paulo', 'Osaka', 'Ahmedabad', 'Dar es Salaam', 'Moscow', 'Washington', 'New York', 'Khartoum', 'Madrid', 'Dallas', 'Seoul', 'Los Angeles', 'Surat', 'Tehran', 'Nanjing', 'Guadalajara', 'Atlanta', 'Alexandria']\n",
      "Chain Lenght: 25 ['Bangkok', 'Kuala Lumpur', 'Riyadh', 'Hyderabad', 'Delhi', 'Istanbul', 'Lagos', 'San Paulo', 'Osaka', 'Ahmedabad', 'Dar es Salaam', 'Moscow', 'Washington', 'New York', 'Khartoum', 'Madrid', 'Dallas', 'Seoul', 'Los Angeles', 'Surat', 'Tehran', 'Nanjing', 'Guadalajara', 'Alexandria', 'Atlanta']\n",
      "Chain Lenght: 25 ['Bangkok', 'Kuala Lumpur', 'Riyadh', 'Hyderabad', 'Delhi', 'Istanbul', 'Lagos', 'San Paulo', 'Osaka', 'Ahmedabad', 'Dar es Salaam', 'Madrid', 'Dallas', 'Seoul', 'Los Angeles', 'Surat', 'Tianjin', 'New York', 'Khartoum', 'Mexico City', 'Yangon', 'Nanjing', 'Guadalajara', 'Atlanta', 'Alexandria']\n",
      "Chain Lenght: 25 ['Bangkok', 'Kuala Lumpur', 'Riyadh', 'Hyderabad', 'Delhi', 'Istanbul', 'Lagos', 'San Paulo', 'Osaka', 'Ahmedabad', 'Dar es Salaam', 'Madrid', 'Dallas', 'Seoul', 'Los Angeles', 'Surat', 'Tianjin', 'New York', 'Khartoum', 'Mexico City', 'Yangon', 'Nanjing', 'Guadalajara', 'Alexandria', 'Atlanta']\n",
      "Chain Lenght: 25 ['Bangkok', 'Kuala Lumpur', 'Riyadh', 'Hyderabad', 'Delhi', 'Istanbul', 'Lagos', 'San Paulo', 'Osaka', 'Ahmedabad', 'Dar es Salaam', 'Madrid', 'Dallas', 'Seoul', 'Los Angeles', 'Surat', 'Tianjin', 'New York', 'Khartoum', 'Moscow', 'Wuhan', 'Nanjing', 'Guadalajara', 'Atlanta', 'Alexandria']\n",
      "Chain Lenght: 25 ['Bangkok', 'Kuala Lumpur', 'Riyadh', 'Hyderabad', 'Delhi', 'Istanbul', 'Lagos', 'San Paulo', 'Osaka', 'Ahmedabad', 'Dar es Salaam', 'Madrid', 'Dallas', 'Seoul', 'Los Angeles', 'Surat', 'Tianjin', 'New York', 'Khartoum', 'Moscow', 'Wuhan', 'Nanjing', 'Guadalajara', 'Alexandria', 'Atlanta']\n",
      "Chain Lenght: 25 ['Bangkok', 'Kuala Lumpur', 'Riyadh', 'Hyderabad', 'Delhi', 'Istanbul', 'Lagos', 'San Paulo', 'Osaka', 'Ahmedabad', 'Dar es Salaam', 'Madrid', 'Dallas', 'Seoul', 'Los Angeles', 'Surat', 'Tianjin', 'New York', 'Khartoum', 'Moscow', 'Washington', 'Nanjing', 'Guadalajara', 'Atlanta', 'Alexandria']\n",
      "Chain Lenght: 25 ['Bangkok', 'Kuala Lumpur', 'Riyadh', 'Hyderabad', 'Delhi', 'Istanbul', 'Lagos', 'San Paulo', 'Osaka', 'Ahmedabad', 'Dar es Salaam', 'Madrid', 'Dallas', 'Seoul', 'Los Angeles', 'Surat', 'Tianjin', 'New York', 'Khartoum', 'Moscow', 'Washington', 'Nanjing', 'Guadalajara', 'Alexandria', 'Atlanta']\n",
      "Chain Lenght: 25 ['Bangkok', 'Kuala Lumpur', 'Riyadh', 'Hyderabad', 'Delhi', 'Istanbul', 'Lagos', 'San Paulo', 'Osaka', 'Ahmedabad', 'Dar es Salaam', 'Madrid', 'Dallas', 'Seoul', 'Los Angeles', 'Surat', 'Tehran', 'New York', 'Khartoum', 'Mexico City', 'Yangon', 'Nanjing', 'Guadalajara', 'Atlanta', 'Alexandria']\n",
      "Chain Lenght: 25 ['Bangkok', 'Kuala Lumpur', 'Riyadh', 'Hyderabad', 'Delhi', 'Istanbul', 'Lagos', 'San Paulo', 'Osaka', 'Ahmedabad', 'Dar es Salaam', 'Madrid', 'Dallas', 'Seoul', 'Los Angeles', 'Surat', 'Tehran', 'New York', 'Khartoum', 'Mexico City', 'Yangon', 'Nanjing', 'Guadalajara', 'Alexandria', 'Atlanta']\n",
      "Chain Lenght: 25 ['Bangkok', 'Kuala Lumpur', 'Riyadh', 'Hyderabad', 'Delhi', 'Istanbul', 'Lagos', 'San Paulo', 'Osaka', 'Ahmedabad', 'Dar es Salaam', 'Madrid', 'Dallas', 'Seoul', 'Los Angeles', 'Surat', 'Tehran', 'New York', 'Khartoum', 'Moscow', 'Wuhan', 'Nanjing', 'Guadalajara', 'Atlanta', 'Alexandria']\n",
      "Chain Lenght: 25 ['Bangkok', 'Kuala Lumpur', 'Riyadh', 'Hyderabad', 'Delhi', 'Istanbul', 'Lagos', 'San Paulo', 'Osaka', 'Ahmedabad', 'Dar es Salaam', 'Madrid', 'Dallas', 'Seoul', 'Los Angeles', 'Surat', 'Tehran', 'New York', 'Khartoum', 'Moscow', 'Wuhan', 'Nanjing', 'Guadalajara', 'Alexandria', 'Atlanta']\n",
      "Chain Lenght: 25 ['Bangkok', 'Kuala Lumpur', 'Riyadh', 'Hyderabad', 'Delhi', 'Istanbul', 'Lagos', 'San Paulo', 'Osaka', 'Ahmedabad', 'Dar es Salaam', 'Madrid', 'Dallas', 'Seoul', 'Los Angeles', 'Surat', 'Tehran', 'New York', 'Khartoum', 'Moscow', 'Washington', 'Nanjing', 'Guadalajara', 'Atlanta', 'Alexandria']\n",
      "Chain Lenght: 25 ['Bangkok', 'Kuala Lumpur', 'Riyadh', 'Hyderabad', 'Delhi', 'Istanbul', 'Lagos', 'San Paulo', 'Osaka', 'Ahmedabad', 'Dar es Salaam', 'Madrid', 'Dallas', 'Seoul', 'Los Angeles', 'Surat', 'Tehran', 'New York', 'Khartoum', 'Moscow', 'Washington', 'Nanjing', 'Guadalajara', 'Alexandria', 'Atlanta']\n",
      "Chain Lenght: 25 ['Bangkok', 'Kuala Lumpur', 'Riyadh', 'Hyderabad', 'Delhi', 'Istanbul', 'Lagos', 'San Paulo', 'Osaka', 'Atlanta', 'Ahmedabad', 'Dallas', 'Seoul', 'Los Angeles', 'Surat', 'Tianjin', 'New York', 'Khartoum', 'Madrid', 'Dar es Salaam', 'Mexico City', 'Yangon', 'Nanjing', 'Guadalajara', 'Alexandria']\n",
      "Chain Lenght: 25 ['Bangkok', 'Kuala Lumpur', 'Riyadh', 'Hyderabad', 'Delhi', 'Istanbul', 'Lagos', 'San Paulo', 'Osaka', 'Atlanta', 'Ahmedabad', 'Dallas', 'Seoul', 'Los Angeles', 'Surat', 'Tianjin', 'New York', 'Khartoum', 'Madrid', 'Dar es Salaam', 'Moscow', 'Wuhan', 'Nanjing', 'Guadalajara', 'Alexandria']\n",
      "Chain Lenght: 25 ['Bangkok', 'Kuala Lumpur', 'Riyadh', 'Hyderabad', 'Delhi', 'Istanbul', 'Lagos', 'San Paulo', 'Osaka', 'Atlanta', 'Ahmedabad', 'Dallas', 'Seoul', 'Los Angeles', 'Surat', 'Tianjin', 'New York', 'Khartoum', 'Madrid', 'Dar es Salaam', 'Moscow', 'Washington', 'Nanjing', 'Guadalajara', 'Alexandria']\n",
      "Chain Lenght: 25 ['Bangkok', 'Kuala Lumpur', 'Riyadh', 'Hyderabad', 'Delhi', 'Istanbul', 'Lagos', 'San Paulo', 'Osaka', 'Atlanta', 'Ahmedabad', 'Dallas', 'Seoul', 'Los Angeles', 'Surat', 'Tehran', 'New York', 'Khartoum', 'Madrid', 'Dar es Salaam', 'Mexico City', 'Yangon', 'Nanjing', 'Guadalajara', 'Alexandria']\n",
      "Chain Lenght: 25 ['Bangkok', 'Kuala Lumpur', 'Riyadh', 'Hyderabad', 'Delhi', 'Istanbul', 'Lagos', 'San Paulo', 'Osaka', 'Atlanta', 'Ahmedabad', 'Dallas', 'Seoul', 'Los Angeles', 'Surat', 'Tehran', 'New York', 'Khartoum', 'Madrid', 'Dar es Salaam', 'Moscow', 'Wuhan', 'Nanjing', 'Guadalajara', 'Alexandria']\n",
      "Chain Lenght: 25 ['Bangkok', 'Kuala Lumpur', 'Riyadh', 'Hyderabad', 'Delhi', 'Istanbul', 'Lagos', 'San Paulo', 'Osaka', 'Atlanta', 'Ahmedabad', 'Dallas', 'Seoul', 'Los Angeles', 'Surat', 'Tehran', 'New York', 'Khartoum', 'Madrid', 'Dar es Salaam', 'Moscow', 'Washington', 'Nanjing', 'Guadalajara', 'Alexandria']\n",
      "Chain Lenght: 25 ['Bangkok', 'Kuala Lumpur', 'Riyadh', 'Hyderabad', 'Delhi', 'Istanbul', 'Lagos', 'San Paulo', 'Osaka', 'Atlanta', 'Ahmedabad', 'Dar es Salaam', 'Mexico City', 'Yangon', 'New York', 'Khartoum', 'Madrid', 'Dallas', 'Seoul', 'Los Angeles', 'Surat', 'Tianjin', 'Nanjing', 'Guadalajara', 'Alexandria']\n",
      "Chain Lenght: 25 ['Bangkok', 'Kuala Lumpur', 'Riyadh', 'Hyderabad', 'Delhi', 'Istanbul', 'Lagos', 'San Paulo', 'Osaka', 'Atlanta', 'Ahmedabad', 'Dar es Salaam', 'Mexico City', 'Yangon', 'New York', 'Khartoum', 'Madrid', 'Dallas', 'Seoul', 'Los Angeles', 'Surat', 'Tehran', 'Nanjing', 'Guadalajara', 'Alexandria']\n",
      "Chain Lenght: 25 ['Bangkok', 'Kuala Lumpur', 'Riyadh', 'Hyderabad', 'Delhi', 'Istanbul', 'Lagos', 'San Paulo', 'Osaka', 'Atlanta', 'Ahmedabad', 'Dar es Salaam', 'Moscow', 'Wuhan', 'New York', 'Khartoum', 'Madrid', 'Dallas', 'Seoul', 'Los Angeles', 'Surat', 'Tianjin', 'Nanjing', 'Guadalajara', 'Alexandria']\n",
      "Chain Lenght: 25 ['Bangkok', 'Kuala Lumpur', 'Riyadh', 'Hyderabad', 'Delhi', 'Istanbul', 'Lagos', 'San Paulo', 'Osaka', 'Atlanta', 'Ahmedabad', 'Dar es Salaam', 'Moscow', 'Wuhan', 'New York', 'Khartoum', 'Madrid', 'Dallas', 'Seoul', 'Los Angeles', 'Surat', 'Tehran', 'Nanjing', 'Guadalajara', 'Alexandria']\n",
      "Chain Lenght: 25 ['Bangkok', 'Kuala Lumpur', 'Riyadh', 'Hyderabad', 'Delhi', 'Istanbul', 'Lagos', 'San Paulo', 'Osaka', 'Atlanta', 'Ahmedabad', 'Dar es Salaam', 'Moscow', 'Washington', 'New York', 'Khartoum', 'Madrid', 'Dallas', 'Seoul', 'Los Angeles', 'Surat', 'Tianjin', 'Nanjing', 'Guadalajara', 'Alexandria']\n",
      "Chain Lenght: 25 ['Bangkok', 'Kuala Lumpur', 'Riyadh', 'Hyderabad', 'Delhi', 'Istanbul', 'Lagos', 'San Paulo', 'Osaka', 'Atlanta', 'Ahmedabad', 'Dar es Salaam', 'Moscow', 'Washington', 'New York', 'Khartoum', 'Madrid', 'Dallas', 'Seoul', 'Los Angeles', 'Surat', 'Tehran', 'Nanjing', 'Guadalajara', 'Alexandria']\n",
      "Chain Lenght: 25 ['Bangkok', 'Kuala Lumpur', 'Riyadh', 'Hyderabad', 'Delhi', 'Istanbul', 'Lagos', 'San Paulo', 'Osaka', 'Atlanta', 'Ahmedabad', 'Dar es Salaam', 'Madrid', 'Dallas', 'Seoul', 'Los Angeles', 'Surat', 'Tianjin', 'New York', 'Khartoum', 'Mexico City', 'Yangon', 'Nanjing', 'Guadalajara', 'Alexandria']\n",
      "Chain Lenght: 25 ['Bangkok', 'Kuala Lumpur', 'Riyadh', 'Hyderabad', 'Delhi', 'Istanbul', 'Lagos', 'San Paulo', 'Osaka', 'Atlanta', 'Ahmedabad', 'Dar es Salaam', 'Madrid', 'Dallas', 'Seoul', 'Los Angeles', 'Surat', 'Tianjin', 'New York', 'Khartoum', 'Moscow', 'Wuhan', 'Nanjing', 'Guadalajara', 'Alexandria']\n",
      "Chain Lenght: 25 ['Bangkok', 'Kuala Lumpur', 'Riyadh', 'Hyderabad', 'Delhi', 'Istanbul', 'Lagos', 'San Paulo', 'Osaka', 'Atlanta', 'Ahmedabad', 'Dar es Salaam', 'Madrid', 'Dallas', 'Seoul', 'Los Angeles', 'Surat', 'Tianjin', 'New York', 'Khartoum', 'Moscow', 'Washington', 'Nanjing', 'Guadalajara', 'Alexandria']\n",
      "Chain Lenght: 25 ['Bangkok', 'Kuala Lumpur', 'Riyadh', 'Hyderabad', 'Delhi', 'Istanbul', 'Lagos', 'San Paulo', 'Osaka', 'Atlanta', 'Ahmedabad', 'Dar es Salaam', 'Madrid', 'Dallas', 'Seoul', 'Los Angeles', 'Surat', 'Tehran', 'New York', 'Khartoum', 'Mexico City', 'Yangon', 'Nanjing', 'Guadalajara', 'Alexandria']\n",
      "Chain Lenght: 25 ['Bangkok', 'Kuala Lumpur', 'Riyadh', 'Hyderabad', 'Delhi', 'Istanbul', 'Lagos', 'San Paulo', 'Osaka', 'Atlanta', 'Ahmedabad', 'Dar es Salaam', 'Madrid', 'Dallas', 'Seoul', 'Los Angeles', 'Surat', 'Tehran', 'New York', 'Khartoum', 'Moscow', 'Wuhan', 'Nanjing', 'Guadalajara', 'Alexandria']\n",
      "Chain Lenght: 25 ['Bangkok', 'Kuala Lumpur', 'Riyadh', 'Hyderabad', 'Delhi', 'Istanbul', 'Lagos', 'San Paulo', 'Osaka', 'Atlanta', 'Ahmedabad', 'Dar es Salaam', 'Madrid', 'Dallas', 'Seoul', 'Los Angeles', 'Surat', 'Tehran', 'New York', 'Khartoum', 'Moscow', 'Washington', 'Nanjing', 'Guadalajara', 'Alexandria']\n",
      "Chain Lenght: 25 ['Bangkok', 'Kuala Lumpur', 'Riyadh', 'Hyderabad', 'Delhi', 'Istanbul', 'Lagos', 'San Paulo', 'Osaka', 'Atlanta', 'Alexandria', 'Ahmedabad', 'Dallas', 'Seoul', 'Los Angeles', 'Surat', 'Tianjin', 'New York', 'Khartoum', 'Madrid', 'Dar es Salaam', 'Mexico City', 'Yangon', 'Nanjing', 'Guangzhou']\n",
      "Chain Lenght: 25 ['Bangkok', 'Kuala Lumpur', 'Riyadh', 'Hyderabad', 'Delhi', 'Istanbul', 'Lagos', 'San Paulo', 'Osaka', 'Atlanta', 'Alexandria', 'Ahmedabad', 'Dallas', 'Seoul', 'Los Angeles', 'Surat', 'Tianjin', 'New York', 'Khartoum', 'Madrid', 'Dar es Salaam', 'Mexico City', 'Yangon', 'Nanjing', 'Guadalajara']\n",
      "Chain Lenght: 25 ['Bangkok', 'Kuala Lumpur', 'Riyadh', 'Hyderabad', 'Delhi', 'Istanbul', 'Lagos', 'San Paulo', 'Osaka', 'Atlanta', 'Alexandria', 'Ahmedabad', 'Dallas', 'Seoul', 'Los Angeles', 'Surat', 'Tianjin', 'New York', 'Khartoum', 'Madrid', 'Dar es Salaam', 'Moscow', 'Wuhan', 'Nanjing', 'Guangzhou']\n",
      "Chain Lenght: 25 ['Bangkok', 'Kuala Lumpur', 'Riyadh', 'Hyderabad', 'Delhi', 'Istanbul', 'Lagos', 'San Paulo', 'Osaka', 'Atlanta', 'Alexandria', 'Ahmedabad', 'Dallas', 'Seoul', 'Los Angeles', 'Surat', 'Tianjin', 'New York', 'Khartoum', 'Madrid', 'Dar es Salaam', 'Moscow', 'Wuhan', 'Nanjing', 'Guadalajara']\n",
      "Chain Lenght: 25 ['Bangkok', 'Kuala Lumpur', 'Riyadh', 'Hyderabad', 'Delhi', 'Istanbul', 'Lagos', 'San Paulo', 'Osaka', 'Atlanta', 'Alexandria', 'Ahmedabad', 'Dallas', 'Seoul', 'Los Angeles', 'Surat', 'Tianjin', 'New York', 'Khartoum', 'Madrid', 'Dar es Salaam', 'Moscow', 'Washington', 'Nanjing', 'Guangzhou']\n",
      "Chain Lenght: 25 ['Bangkok', 'Kuala Lumpur', 'Riyadh', 'Hyderabad', 'Delhi', 'Istanbul', 'Lagos', 'San Paulo', 'Osaka', 'Atlanta', 'Alexandria', 'Ahmedabad', 'Dallas', 'Seoul', 'Los Angeles', 'Surat', 'Tianjin', 'New York', 'Khartoum', 'Madrid', 'Dar es Salaam', 'Moscow', 'Washington', 'Nanjing', 'Guadalajara']\n",
      "Chain Lenght: 25 ['Bangkok', 'Kuala Lumpur', 'Riyadh', 'Hyderabad', 'Delhi', 'Istanbul', 'Lagos', 'San Paulo', 'Osaka', 'Atlanta', 'Alexandria', 'Ahmedabad', 'Dallas', 'Seoul', 'Los Angeles', 'Surat', 'Tehran', 'New York', 'Khartoum', 'Madrid', 'Dar es Salaam', 'Mexico City', 'Yangon', 'Nanjing', 'Guangzhou']\n",
      "Chain Lenght: 25 ['Bangkok', 'Kuala Lumpur', 'Riyadh', 'Hyderabad', 'Delhi', 'Istanbul', 'Lagos', 'San Paulo', 'Osaka', 'Atlanta', 'Alexandria', 'Ahmedabad', 'Dallas', 'Seoul', 'Los Angeles', 'Surat', 'Tehran', 'New York', 'Khartoum', 'Madrid', 'Dar es Salaam', 'Mexico City', 'Yangon', 'Nanjing', 'Guadalajara']\n",
      "Chain Lenght: 25 ['Bangkok', 'Kuala Lumpur', 'Riyadh', 'Hyderabad', 'Delhi', 'Istanbul', 'Lagos', 'San Paulo', 'Osaka', 'Atlanta', 'Alexandria', 'Ahmedabad', 'Dallas', 'Seoul', 'Los Angeles', 'Surat', 'Tehran', 'New York', 'Khartoum', 'Madrid', 'Dar es Salaam', 'Moscow', 'Wuhan', 'Nanjing', 'Guangzhou']\n",
      "Chain Lenght: 25 ['Bangkok', 'Kuala Lumpur', 'Riyadh', 'Hyderabad', 'Delhi', 'Istanbul', 'Lagos', 'San Paulo', 'Osaka', 'Atlanta', 'Alexandria', 'Ahmedabad', 'Dallas', 'Seoul', 'Los Angeles', 'Surat', 'Tehran', 'New York', 'Khartoum', 'Madrid', 'Dar es Salaam', 'Moscow', 'Wuhan', 'Nanjing', 'Guadalajara']\n",
      "Chain Lenght: 25 ['Bangkok', 'Kuala Lumpur', 'Riyadh', 'Hyderabad', 'Delhi', 'Istanbul', 'Lagos', 'San Paulo', 'Osaka', 'Atlanta', 'Alexandria', 'Ahmedabad', 'Dallas', 'Seoul', 'Los Angeles', 'Surat', 'Tehran', 'New York', 'Khartoum', 'Madrid', 'Dar es Salaam', 'Moscow', 'Washington', 'Nanjing', 'Guangzhou']\n",
      "Chain Lenght: 25 ['Bangkok', 'Kuala Lumpur', 'Riyadh', 'Hyderabad', 'Delhi', 'Istanbul', 'Lagos', 'San Paulo', 'Osaka', 'Atlanta', 'Alexandria', 'Ahmedabad', 'Dallas', 'Seoul', 'Los Angeles', 'Surat', 'Tehran', 'New York', 'Khartoum', 'Madrid', 'Dar es Salaam', 'Moscow', 'Washington', 'Nanjing', 'Guadalajara']\n",
      "Chain Lenght: 25 ['Bangkok', 'Kuala Lumpur', 'Riyadh', 'Hyderabad', 'Delhi', 'Istanbul', 'Lagos', 'San Paulo', 'Osaka', 'Atlanta', 'Alexandria', 'Ahmedabad', 'Dar es Salaam', 'Mexico City', 'Yangon', 'New York', 'Khartoum', 'Madrid', 'Dallas', 'Seoul', 'Los Angeles', 'Surat', 'Tianjin', 'Nanjing', 'Guangzhou']\n",
      "Chain Lenght: 25 ['Bangkok', 'Kuala Lumpur', 'Riyadh', 'Hyderabad', 'Delhi', 'Istanbul', 'Lagos', 'San Paulo', 'Osaka', 'Atlanta', 'Alexandria', 'Ahmedabad', 'Dar es Salaam', 'Mexico City', 'Yangon', 'New York', 'Khartoum', 'Madrid', 'Dallas', 'Seoul', 'Los Angeles', 'Surat', 'Tianjin', 'Nanjing', 'Guadalajara']\n",
      "Chain Lenght: 25 ['Bangkok', 'Kuala Lumpur', 'Riyadh', 'Hyderabad', 'Delhi', 'Istanbul', 'Lagos', 'San Paulo', 'Osaka', 'Atlanta', 'Alexandria', 'Ahmedabad', 'Dar es Salaam', 'Mexico City', 'Yangon', 'New York', 'Khartoum', 'Madrid', 'Dallas', 'Seoul', 'Los Angeles', 'Surat', 'Tehran', 'Nanjing', 'Guangzhou']\n",
      "Chain Lenght: 25 ['Bangkok', 'Kuala Lumpur', 'Riyadh', 'Hyderabad', 'Delhi', 'Istanbul', 'Lagos', 'San Paulo', 'Osaka', 'Atlanta', 'Alexandria', 'Ahmedabad', 'Dar es Salaam', 'Mexico City', 'Yangon', 'New York', 'Khartoum', 'Madrid', 'Dallas', 'Seoul', 'Los Angeles', 'Surat', 'Tehran', 'Nanjing', 'Guadalajara']\n",
      "Chain Lenght: 25 ['Bangkok', 'Kuala Lumpur', 'Riyadh', 'Hyderabad', 'Delhi', 'Istanbul', 'Lagos', 'San Paulo', 'Osaka', 'Atlanta', 'Alexandria', 'Ahmedabad', 'Dar es Salaam', 'Moscow', 'Wuhan', 'New York', 'Khartoum', 'Madrid', 'Dallas', 'Seoul', 'Los Angeles', 'Surat', 'Tianjin', 'Nanjing', 'Guangzhou']\n",
      "Chain Lenght: 25 ['Bangkok', 'Kuala Lumpur', 'Riyadh', 'Hyderabad', 'Delhi', 'Istanbul', 'Lagos', 'San Paulo', 'Osaka', 'Atlanta', 'Alexandria', 'Ahmedabad', 'Dar es Salaam', 'Moscow', 'Wuhan', 'New York', 'Khartoum', 'Madrid', 'Dallas', 'Seoul', 'Los Angeles', 'Surat', 'Tianjin', 'Nanjing', 'Guadalajara']\n",
      "Chain Lenght: 25 ['Bangkok', 'Kuala Lumpur', 'Riyadh', 'Hyderabad', 'Delhi', 'Istanbul', 'Lagos', 'San Paulo', 'Osaka', 'Atlanta', 'Alexandria', 'Ahmedabad', 'Dar es Salaam', 'Moscow', 'Wuhan', 'New York', 'Khartoum', 'Madrid', 'Dallas', 'Seoul', 'Los Angeles', 'Surat', 'Tehran', 'Nanjing', 'Guangzhou']\n",
      "Chain Lenght: 25 ['Bangkok', 'Kuala Lumpur', 'Riyadh', 'Hyderabad', 'Delhi', 'Istanbul', 'Lagos', 'San Paulo', 'Osaka', 'Atlanta', 'Alexandria', 'Ahmedabad', 'Dar es Salaam', 'Moscow', 'Wuhan', 'New York', 'Khartoum', 'Madrid', 'Dallas', 'Seoul', 'Los Angeles', 'Surat', 'Tehran', 'Nanjing', 'Guadalajara']\n",
      "Chain Lenght: 25 ['Bangkok', 'Kuala Lumpur', 'Riyadh', 'Hyderabad', 'Delhi', 'Istanbul', 'Lagos', 'San Paulo', 'Osaka', 'Atlanta', 'Alexandria', 'Ahmedabad', 'Dar es Salaam', 'Moscow', 'Washington', 'New York', 'Khartoum', 'Madrid', 'Dallas', 'Seoul', 'Los Angeles', 'Surat', 'Tianjin', 'Nanjing', 'Guangzhou']\n",
      "Chain Lenght: 25 ['Bangkok', 'Kuala Lumpur', 'Riyadh', 'Hyderabad', 'Delhi', 'Istanbul', 'Lagos', 'San Paulo', 'Osaka', 'Atlanta', 'Alexandria', 'Ahmedabad', 'Dar es Salaam', 'Moscow', 'Washington', 'New York', 'Khartoum', 'Madrid', 'Dallas', 'Seoul', 'Los Angeles', 'Surat', 'Tianjin', 'Nanjing', 'Guadalajara']\n",
      "Chain Lenght: 25 ['Bangkok', 'Kuala Lumpur', 'Riyadh', 'Hyderabad', 'Delhi', 'Istanbul', 'Lagos', 'San Paulo', 'Osaka', 'Atlanta', 'Alexandria', 'Ahmedabad', 'Dar es Salaam', 'Moscow', 'Washington', 'New York', 'Khartoum', 'Madrid', 'Dallas', 'Seoul', 'Los Angeles', 'Surat', 'Tehran', 'Nanjing', 'Guangzhou']\n",
      "Chain Lenght: 25 ['Bangkok', 'Kuala Lumpur', 'Riyadh', 'Hyderabad', 'Delhi', 'Istanbul', 'Lagos', 'San Paulo', 'Osaka', 'Atlanta', 'Alexandria', 'Ahmedabad', 'Dar es Salaam', 'Moscow', 'Washington', 'New York', 'Khartoum', 'Madrid', 'Dallas', 'Seoul', 'Los Angeles', 'Surat', 'Tehran', 'Nanjing', 'Guadalajara']\n",
      "Chain Lenght: 25 ['Bangkok', 'Kuala Lumpur', 'Riyadh', 'Hyderabad', 'Delhi', 'Istanbul', 'Lagos', 'San Paulo', 'Osaka', 'Atlanta', 'Alexandria', 'Ahmedabad', 'Dar es Salaam', 'Madrid', 'Dallas', 'Seoul', 'Los Angeles', 'Surat', 'Tianjin', 'New York', 'Khartoum', 'Mexico City', 'Yangon', 'Nanjing', 'Guangzhou']\n",
      "Chain Lenght: 25 ['Bangkok', 'Kuala Lumpur', 'Riyadh', 'Hyderabad', 'Delhi', 'Istanbul', 'Lagos', 'San Paulo', 'Osaka', 'Atlanta', 'Alexandria', 'Ahmedabad', 'Dar es Salaam', 'Madrid', 'Dallas', 'Seoul', 'Los Angeles', 'Surat', 'Tianjin', 'New York', 'Khartoum', 'Mexico City', 'Yangon', 'Nanjing', 'Guadalajara']\n",
      "Chain Lenght: 25 ['Bangkok', 'Kuala Lumpur', 'Riyadh', 'Hyderabad', 'Delhi', 'Istanbul', 'Lagos', 'San Paulo', 'Osaka', 'Atlanta', 'Alexandria', 'Ahmedabad', 'Dar es Salaam', 'Madrid', 'Dallas', 'Seoul', 'Los Angeles', 'Surat', 'Tianjin', 'New York', 'Khartoum', 'Moscow', 'Wuhan', 'Nanjing', 'Guangzhou']\n",
      "Chain Lenght: 25 ['Bangkok', 'Kuala Lumpur', 'Riyadh', 'Hyderabad', 'Delhi', 'Istanbul', 'Lagos', 'San Paulo', 'Osaka', 'Atlanta', 'Alexandria', 'Ahmedabad', 'Dar es Salaam', 'Madrid', 'Dallas', 'Seoul', 'Los Angeles', 'Surat', 'Tianjin', 'New York', 'Khartoum', 'Moscow', 'Wuhan', 'Nanjing', 'Guadalajara']\n",
      "Chain Lenght: 25 ['Bangkok', 'Kuala Lumpur', 'Riyadh', 'Hyderabad', 'Delhi', 'Istanbul', 'Lagos', 'San Paulo', 'Osaka', 'Atlanta', 'Alexandria', 'Ahmedabad', 'Dar es Salaam', 'Madrid', 'Dallas', 'Seoul', 'Los Angeles', 'Surat', 'Tianjin', 'New York', 'Khartoum', 'Moscow', 'Washington', 'Nanjing', 'Guangzhou']\n",
      "Chain Lenght: 25 ['Bangkok', 'Kuala Lumpur', 'Riyadh', 'Hyderabad', 'Delhi', 'Istanbul', 'Lagos', 'San Paulo', 'Osaka', 'Atlanta', 'Alexandria', 'Ahmedabad', 'Dar es Salaam', 'Madrid', 'Dallas', 'Seoul', 'Los Angeles', 'Surat', 'Tianjin', 'New York', 'Khartoum', 'Moscow', 'Washington', 'Nanjing', 'Guadalajara']\n",
      "Chain Lenght: 25 ['Bangkok', 'Kuala Lumpur', 'Riyadh', 'Hyderabad', 'Delhi', 'Istanbul', 'Lagos', 'San Paulo', 'Osaka', 'Atlanta', 'Alexandria', 'Ahmedabad', 'Dar es Salaam', 'Madrid', 'Dallas', 'Seoul', 'Los Angeles', 'Surat', 'Tehran', 'New York', 'Khartoum', 'Mexico City', 'Yangon', 'Nanjing', 'Guangzhou']\n",
      "Chain Lenght: 25 ['Bangkok', 'Kuala Lumpur', 'Riyadh', 'Hyderabad', 'Delhi', 'Istanbul', 'Lagos', 'San Paulo', 'Osaka', 'Atlanta', 'Alexandria', 'Ahmedabad', 'Dar es Salaam', 'Madrid', 'Dallas', 'Seoul', 'Los Angeles', 'Surat', 'Tehran', 'New York', 'Khartoum', 'Mexico City', 'Yangon', 'Nanjing', 'Guadalajara']\n",
      "Chain Lenght: 25 ['Bangkok', 'Kuala Lumpur', 'Riyadh', 'Hyderabad', 'Delhi', 'Istanbul', 'Lagos', 'San Paulo', 'Osaka', 'Atlanta', 'Alexandria', 'Ahmedabad', 'Dar es Salaam', 'Madrid', 'Dallas', 'Seoul', 'Los Angeles', 'Surat', 'Tehran', 'New York', 'Khartoum', 'Moscow', 'Wuhan', 'Nanjing', 'Guangzhou']\n",
      "Chain Lenght: 25 ['Bangkok', 'Kuala Lumpur', 'Riyadh', 'Hyderabad', 'Delhi', 'Istanbul', 'Lagos', 'San Paulo', 'Osaka', 'Atlanta', 'Alexandria', 'Ahmedabad', 'Dar es Salaam', 'Madrid', 'Dallas', 'Seoul', 'Los Angeles', 'Surat', 'Tehran', 'New York', 'Khartoum', 'Moscow', 'Wuhan', 'Nanjing', 'Guadalajara']\n",
      "Chain Lenght: 25 ['Bangkok', 'Kuala Lumpur', 'Riyadh', 'Hyderabad', 'Delhi', 'Istanbul', 'Lagos', 'San Paulo', 'Osaka', 'Atlanta', 'Alexandria', 'Ahmedabad', 'Dar es Salaam', 'Madrid', 'Dallas', 'Seoul', 'Los Angeles', 'Surat', 'Tehran', 'New York', 'Khartoum', 'Moscow', 'Washington', 'Nanjing', 'Guangzhou']\n",
      "Chain Lenght: 25 ['Bangkok', 'Kuala Lumpur', 'Riyadh', 'Hyderabad', 'Delhi', 'Istanbul', 'Lagos', 'San Paulo', 'Osaka', 'Atlanta', 'Alexandria', 'Ahmedabad', 'Dar es Salaam', 'Madrid', 'Dallas', 'Seoul', 'Los Angeles', 'Surat', 'Tehran', 'New York', 'Khartoum', 'Moscow', 'Washington', 'Nanjing', 'Guadalajara']\n",
      "Chain Lenght: 25 ['Bangkok', 'Kuala Lumpur', 'Riyadh', 'Hyderabad', 'Delhi', 'Istanbul', 'Lagos', 'San Paulo', 'Osaka', 'Alexandria', 'Ahmedabad', 'Dallas', 'Seoul', 'Los Angeles', 'Surat', 'Tianjin', 'New York', 'Khartoum', 'Madrid', 'Dar es Salaam', 'Mexico City', 'Yangon', 'Nanjing', 'Guadalajara', 'Atlanta']\n",
      "Chain Lenght: 25 ['Bangkok', 'Kuala Lumpur', 'Riyadh', 'Hyderabad', 'Delhi', 'Istanbul', 'Lagos', 'San Paulo', 'Osaka', 'Alexandria', 'Ahmedabad', 'Dallas', 'Seoul', 'Los Angeles', 'Surat', 'Tianjin', 'New York', 'Khartoum', 'Madrid', 'Dar es Salaam', 'Moscow', 'Wuhan', 'Nanjing', 'Guadalajara', 'Atlanta']\n",
      "Chain Lenght: 25 ['Bangkok', 'Kuala Lumpur', 'Riyadh', 'Hyderabad', 'Delhi', 'Istanbul', 'Lagos', 'San Paulo', 'Osaka', 'Alexandria', 'Ahmedabad', 'Dallas', 'Seoul', 'Los Angeles', 'Surat', 'Tianjin', 'New York', 'Khartoum', 'Madrid', 'Dar es Salaam', 'Moscow', 'Washington', 'Nanjing', 'Guadalajara', 'Atlanta']\n",
      "Chain Lenght: 25 ['Bangkok', 'Kuala Lumpur', 'Riyadh', 'Hyderabad', 'Delhi', 'Istanbul', 'Lagos', 'San Paulo', 'Osaka', 'Alexandria', 'Ahmedabad', 'Dallas', 'Seoul', 'Los Angeles', 'Surat', 'Tehran', 'New York', 'Khartoum', 'Madrid', 'Dar es Salaam', 'Mexico City', 'Yangon', 'Nanjing', 'Guadalajara', 'Atlanta']\n",
      "Chain Lenght: 25 ['Bangkok', 'Kuala Lumpur', 'Riyadh', 'Hyderabad', 'Delhi', 'Istanbul', 'Lagos', 'San Paulo', 'Osaka', 'Alexandria', 'Ahmedabad', 'Dallas', 'Seoul', 'Los Angeles', 'Surat', 'Tehran', 'New York', 'Khartoum', 'Madrid', 'Dar es Salaam', 'Moscow', 'Wuhan', 'Nanjing', 'Guadalajara', 'Atlanta']\n",
      "Chain Lenght: 25 ['Bangkok', 'Kuala Lumpur', 'Riyadh', 'Hyderabad', 'Delhi', 'Istanbul', 'Lagos', 'San Paulo', 'Osaka', 'Alexandria', 'Ahmedabad', 'Dallas', 'Seoul', 'Los Angeles', 'Surat', 'Tehran', 'New York', 'Khartoum', 'Madrid', 'Dar es Salaam', 'Moscow', 'Washington', 'Nanjing', 'Guadalajara', 'Atlanta']\n",
      "Chain Lenght: 25 ['Bangkok', 'Kuala Lumpur', 'Riyadh', 'Hyderabad', 'Delhi', 'Istanbul', 'Lagos', 'San Paulo', 'Osaka', 'Alexandria', 'Ahmedabad', 'Dar es Salaam', 'Mexico City', 'Yangon', 'New York', 'Khartoum', 'Madrid', 'Dallas', 'Seoul', 'Los Angeles', 'Surat', 'Tianjin', 'Nanjing', 'Guadalajara', 'Atlanta']\n",
      "Chain Lenght: 25 ['Bangkok', 'Kuala Lumpur', 'Riyadh', 'Hyderabad', 'Delhi', 'Istanbul', 'Lagos', 'San Paulo', 'Osaka', 'Alexandria', 'Ahmedabad', 'Dar es Salaam', 'Mexico City', 'Yangon', 'New York', 'Khartoum', 'Madrid', 'Dallas', 'Seoul', 'Los Angeles', 'Surat', 'Tehran', 'Nanjing', 'Guadalajara', 'Atlanta']\n",
      "Chain Lenght: 25 ['Bangkok', 'Kuala Lumpur', 'Riyadh', 'Hyderabad', 'Delhi', 'Istanbul', 'Lagos', 'San Paulo', 'Osaka', 'Alexandria', 'Ahmedabad', 'Dar es Salaam', 'Moscow', 'Wuhan', 'New York', 'Khartoum', 'Madrid', 'Dallas', 'Seoul', 'Los Angeles', 'Surat', 'Tianjin', 'Nanjing', 'Guadalajara', 'Atlanta']\n",
      "Chain Lenght: 25 ['Bangkok', 'Kuala Lumpur', 'Riyadh', 'Hyderabad', 'Delhi', 'Istanbul', 'Lagos', 'San Paulo', 'Osaka', 'Alexandria', 'Ahmedabad', 'Dar es Salaam', 'Moscow', 'Wuhan', 'New York', 'Khartoum', 'Madrid', 'Dallas', 'Seoul', 'Los Angeles', 'Surat', 'Tehran', 'Nanjing', 'Guadalajara', 'Atlanta']\n"
     ]
    }
   ],
   "source": [
    "max_show = 100\n",
    "for chain in chains[:max_show]:\n",
    "    names = []\n",
    "    for i in chain:\n",
    "        names.append(cities[i])        \n",
    "    print(\"Chain Lenght:\", len(names), names)    "
   ]
  }
 ],
 "metadata": {
  "kernelspec": {
   "display_name": "Python 3",
   "language": "python",
   "name": "python3"
  },
  "language_info": {
   "codemirror_mode": {
    "name": "ipython",
    "version": 3
   },
   "file_extension": ".py",
   "mimetype": "text/x-python",
   "name": "python",
   "nbconvert_exporter": "python",
   "pygments_lexer": "ipython3",
   "version": "3.8.7"
  }
 },
 "nbformat": 4,
 "nbformat_minor": 5
}
