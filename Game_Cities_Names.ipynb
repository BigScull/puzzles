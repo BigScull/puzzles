{
 "cells": [
  {
   "cell_type": "markdown",
   "id": "unnecessary-branch",
   "metadata": {},
   "source": [
    "## Find longest chain of cities names\n",
    "By Last char and first char<br>\n",
    "Example:<br>\n",
    "<i>Bangkok - Kuala Lumpur - Riyadh</i>....."
   ]
  },
  {
   "cell_type": "code",
   "execution_count": 1,
   "id": "static-garbage",
   "metadata": {},
   "outputs": [],
   "source": [
    "cities = [\"Amsterdam\", \"Moscow\", \"Paris\", \"Minsk\", \"San Diego\", \"Miami\", \"Orlando\", \"Mexico\", \"Los Angeles\", \"Oslo\", \"San Francisco\", \n",
    "         \"Chicago\", \"Toronto\", \"Philadelphia\", \"Atlanta\", \"Boston\", \"Monterrey\", \"Detroit\", \"Vancouver\",\"Mumbai\",\"Beijing\",\"Dhaka\",\"Osaka\",\"New York\",\"Karachi\",\"Buenos Aires\",\"Chongqing\",\"Istanbul\"]\n",
    "\n",
    "# cities = \"Tokyo,Delhi,Shanghai,San Paulo,Mexico City,Cairo,Mumbai,Beijing,Dhaka,Osaka,New York,Karachi,Buenos Aires,Chongqing,Istanbul,Kolkata,Manila,Lagos,Rio de Janeiro,Tianjin,Kinshasa,Guangzhou,Los Angeles,Moscow,Shenzhen,Lahore,Bangalore,Paris,Bogot?,Jakarta,Chennai,Lima,Bangkok,Seoul,Nagoya,Hyderabad,London,Tehran,Chicago,Chengdu,Nanjing,Wuhan,Ho Chi Minh City,Luanda,Ahmedabad,Kuala Lumpur,Xi'an,Hong Kong,Dongguan,Hangzhou,Foshan,Shenyang,Riyadh,Baghdad,Santiago,Surat,Madrid,Suzhou,Pune,Harbin,Houston,Dallas,Toronto,Dar es Salaam,Miami,Belo Horizonte,Singapore,Philadelphia,Atlanta,Fukuoka,Khartoum,Barcelona,Johannesburg,Saint Petersburg,Qingdao,Dalian,Washington,Yangon,Alexandria,Jinan,Guadalajara\"\n",
    "# cities = cities.split(\",\")"
   ]
  },
  {
   "cell_type": "code",
   "execution_count": 2,
   "id": "atomic-property",
   "metadata": {},
   "outputs": [
    {
     "name": "stdout",
     "output_type": "stream",
     "text": [
      "All Cities: 28\n"
     ]
    }
   ],
   "source": [
    "print(\"All Cities:\", len(cities))"
   ]
  },
  {
   "cell_type": "code",
   "execution_count": 3,
   "id": "systematic-nurse",
   "metadata": {},
   "outputs": [],
   "source": [
    "from tqdm.notebook import tqdm\n",
    "from itertools import permutations\n",
    "import array\n",
    "import gc\n",
    "from matplotlib import pyplot as plt\n",
    "import seaborn as sns"
   ]
  },
  {
   "cell_type": "code",
   "execution_count": 4,
   "id": "polar-fruit",
   "metadata": {},
   "outputs": [],
   "source": [
    "def check_chain(chain):\n",
    "    flag = True\n",
    "    count = 0\n",
    "    for i in chain:\n",
    "        if count+1 == len(chain): break        \n",
    "        city1 = cities[chain[count]].lower()\n",
    "        city2 = cities[chain[count+1]].lower() \n",
    "        if city1[len(city1)-1] != city2[0]: flag = False; break\n",
    "        count += 1\n",
    "    return flag"
   ]
  },
  {
   "cell_type": "code",
   "execution_count": 5,
   "id": "thermal-plastic",
   "metadata": {},
   "outputs": [],
   "source": [
    "chains = []\n",
    "variants = permutations(range(len(cities)), 2)\n",
    "for i, chain in enumerate(variants):\n",
    "    if check_chain(chain):\n",
    "        #print(list(chain))\n",
    "        chains.append(list(chain))\n",
    "CHAINS_CONST = tuple(chains)"
   ]
  },
  {
   "cell_type": "code",
   "execution_count": 6,
   "id": "seventh-protocol",
   "metadata": {},
   "outputs": [
    {
     "data": {
      "application/vnd.jupyter.widget-view+json": {
       "model_id": "ad3bf36810db4dcbb6120e9ced4588b0",
       "version_major": 2,
       "version_minor": 0
      },
      "text/plain": [
       "  0%|          | 0/46 [00:00<?, ?it/s]"
      ]
     },
     "metadata": {},
     "output_type": "display_data"
    }
   ],
   "source": [
    "chains = {}\n",
    "for c in tqdm(CHAINS_CONST): \n",
    "    if c[0] in chains:\n",
    "        chains[c[0]].append(c[1])\n",
    "    else:\n",
    "        chains[c[0]] = [c[1]]\n",
    "#chains            "
   ]
  },
  {
   "cell_type": "code",
   "execution_count": 7,
   "id": "indie-essence",
   "metadata": {},
   "outputs": [
    {
     "name": "stdout",
     "output_type": "stream",
     "text": [
      "Amsterdam ['Moscow', 'Minsk', 'Miami', 'Mexico', 'Monterrey', 'Mumbai']\n",
      "Moscow\n",
      "Paris ['San Diego', 'San Francisco']\n",
      "Minsk ['Karachi']\n",
      "San Diego ['Orlando', 'Oslo', 'Osaka']\n",
      "Miami ['Istanbul']\n",
      "Orlando ['Oslo', 'Osaka']\n",
      "Mexico ['Orlando', 'Oslo', 'Osaka']\n",
      "Los Angeles ['San Diego', 'San Francisco']\n",
      "Oslo ['Orlando', 'Osaka']\n",
      "San Francisco ['Orlando', 'Oslo', 'Osaka']\n",
      "Chicago ['Orlando', 'Oslo', 'Osaka']\n",
      "Toronto ['Orlando', 'Oslo', 'Osaka']\n",
      "Philadelphia ['Amsterdam', 'Atlanta']\n",
      "Atlanta ['Amsterdam']\n",
      "Boston ['New York']\n",
      "Monterrey\n",
      "Detroit ['Toronto']\n",
      "Vancouver\n",
      "Mumbai ['Istanbul']\n",
      "Beijing\n",
      "Dhaka ['Amsterdam', 'Atlanta']\n",
      "Osaka ['Amsterdam', 'Atlanta']\n",
      "New York ['Karachi']\n",
      "Karachi ['Istanbul']\n",
      "Buenos Aires ['San Diego', 'San Francisco']\n",
      "Chongqing\n",
      "Istanbul ['Los Angeles']\n"
     ]
    }
   ],
   "source": [
    "for i in range(len(cities)):\n",
    "    if i in chains:\n",
    "        names = [cities[x] for x in chains[i]]\n",
    "        print(cities[i], names)\n",
    "    else:\n",
    "        print(cities[i])"
   ]
  },
  {
   "cell_type": "code",
   "execution_count": 8,
   "id": "electric-highlight",
   "metadata": {},
   "outputs": [
    {
     "data": {
      "text/plain": [
       "<AxesSubplot:>"
      ]
     },
     "execution_count": 8,
     "metadata": {},
     "output_type": "execute_result"
    },
    {
     "data": {
      "image/png": "[encoded data removed]",
      "text/plain": [
       "<Figure size 1008x1008 with 1 Axes>"
      ]
     },
     "metadata": {
      "needs_background": "light"
     },
     "output_type": "display_data"
    }
   ],
   "source": [
    "plt.figure(figsize = (14,14))\n",
    "sns.barplot(y = cities, x = [len(chains[x]) if x in chains else 0 for x in range(len(cities))])"
   ]
  },
  {
   "cell_type": "code",
   "execution_count": 9,
   "id": "completed-intake",
   "metadata": {},
   "outputs": [
    {
     "data": {
      "application/vnd.jupyter.widget-view+json": {
       "model_id": "82ecbb9a0f28460b929dc7f0a577e260",
       "version_major": 2,
       "version_minor": 0
      },
      "text/plain": [
       "  0%|          | 0/46 [00:00<?, ?it/s]"
      ]
     },
     "metadata": {},
     "output_type": "display_data"
    },
    {
     "name": "stdout",
     "output_type": "stream",
     "text": [
      "3 length found: 98 chains\n"
     ]
    },
    {
     "data": {
      "application/vnd.jupyter.widget-view+json": {
       "model_id": "e92e667b7bda4529873301d69bf37bad",
       "version_major": 2,
       "version_minor": 0
      },
      "text/plain": [
       "  0%|          | 0/98 [00:00<?, ?it/s]"
      ]
     },
     "metadata": {},
     "output_type": "display_data"
    },
    {
     "name": "stdout",
     "output_type": "stream",
     "text": [
      "4 length found: 188 chains\n"
     ]
    },
    {
     "data": {
      "application/vnd.jupyter.widget-view+json": {
       "model_id": "1e199baf3cc34abdbde4642ea1d66c5e",
       "version_major": 2,
       "version_minor": 0
      },
      "text/plain": [
       "  0%|          | 0/188 [00:00<?, ?it/s]"
      ]
     },
     "metadata": {},
     "output_type": "display_data"
    },
    {
     "name": "stdout",
     "output_type": "stream",
     "text": [
      "5 length found: 354 chains\n"
     ]
    },
    {
     "data": {
      "application/vnd.jupyter.widget-view+json": {
       "model_id": "f1620f797e9f4eb6be2da33251b940ce",
       "version_major": 2,
       "version_minor": 0
      },
      "text/plain": [
       "  0%|          | 0/354 [00:00<?, ?it/s]"
      ]
     },
     "metadata": {},
     "output_type": "display_data"
    },
    {
     "name": "stdout",
     "output_type": "stream",
     "text": [
      "6 length found: 586 chains\n"
     ]
    },
    {
     "data": {
      "application/vnd.jupyter.widget-view+json": {
       "model_id": "bd4dfe4f7dcb4053944875984f006027",
       "version_major": 2,
       "version_minor": 0
      },
      "text/plain": [
       "  0%|          | 0/586 [00:00<?, ?it/s]"
      ]
     },
     "metadata": {},
     "output_type": "display_data"
    },
    {
     "name": "stdout",
     "output_type": "stream",
     "text": [
      "7 length found: 791 chains\n"
     ]
    },
    {
     "data": {
      "application/vnd.jupyter.widget-view+json": {
       "model_id": "448977bddd37499bb9413c6e40fd7b18",
       "version_major": 2,
       "version_minor": 0
      },
      "text/plain": [
       "  0%|          | 0/791 [00:00<?, ?it/s]"
      ]
     },
     "metadata": {},
     "output_type": "display_data"
    },
    {
     "name": "stdout",
     "output_type": "stream",
     "text": [
      "8 length found: 925 chains\n"
     ]
    },
    {
     "data": {
      "application/vnd.jupyter.widget-view+json": {
       "model_id": "49e85ed6e0ef4610bc024c993e426381",
       "version_major": 2,
       "version_minor": 0
      },
      "text/plain": [
       "  0%|          | 0/925 [00:00<?, ?it/s]"
      ]
     },
     "metadata": {},
     "output_type": "display_data"
    },
    {
     "name": "stdout",
     "output_type": "stream",
     "text": [
      "9 length found: 967 chains\n"
     ]
    },
    {
     "data": {
      "application/vnd.jupyter.widget-view+json": {
       "model_id": "8a78b4a94e87404baa14ef5d2b2d5f82",
       "version_major": 2,
       "version_minor": 0
      },
      "text/plain": [
       "  0%|          | 0/967 [00:00<?, ?it/s]"
      ]
     },
     "metadata": {},
     "output_type": "display_data"
    },
    {
     "name": "stdout",
     "output_type": "stream",
     "text": [
      "10 length found: 754 chains\n"
     ]
    },
    {
     "data": {
      "application/vnd.jupyter.widget-view+json": {
       "model_id": "fcfc11ae02b9418982dfd5600940ee4b",
       "version_major": 2,
       "version_minor": 0
      },
      "text/plain": [
       "  0%|          | 0/754 [00:00<?, ?it/s]"
      ]
     },
     "metadata": {},
     "output_type": "display_data"
    },
    {
     "name": "stdout",
     "output_type": "stream",
     "text": [
      "11 length found: 338 chains\n"
     ]
    },
    {
     "data": {
      "application/vnd.jupyter.widget-view+json": {
       "model_id": "ed03dde72bd24f3e8d3f885a367f8403",
       "version_major": 2,
       "version_minor": 0
      },
      "text/plain": [
       "  0%|          | 0/338 [00:00<?, ?it/s]"
      ]
     },
     "metadata": {},
     "output_type": "display_data"
    },
    {
     "name": "stdout",
     "output_type": "stream",
     "text": [
      "12 length found: 68 chains\n"
     ]
    },
    {
     "data": {
      "application/vnd.jupyter.widget-view+json": {
       "model_id": "94b94f063377486396879d51b7d5d6fc",
       "version_major": 2,
       "version_minor": 0
      },
      "text/plain": [
       "  0%|          | 0/68 [00:00<?, ?it/s]"
      ]
     },
     "metadata": {},
     "output_type": "display_data"
    },
    {
     "name": "stdout",
     "output_type": "stream",
     "text": [
      "Wall time: 758 ms\n"
     ]
    }
   ],
   "source": [
    "%%time\n",
    "all_chains = {}\n",
    "chains = list(CHAINS_CONST)\n",
    "\n",
    "for step in range(len(CHAINS_CONST)):\n",
    "#for step in range(3):\n",
    "    \n",
    "    if 'chains_temp' in locals(): del chains_temp; gc.collect()\n",
    "    chains_temp = []\n",
    "    flag = True\n",
    "    for c in tqdm(chains):\n",
    "        for c1 in CHAINS_CONST:\n",
    "            if c[len(c) - 1] == c1[0] and c1[1] not in c:\n",
    "                #a = list(c) # faster works, but need more memory\n",
    "                a = array.array('I', c) # low memory usage\n",
    "                a.append(c1[1])\n",
    "                chains_temp.append(a)\n",
    "                flag = False\n",
    "    if flag == True: break\n",
    "    del chains\n",
    "    chains = chains_temp\n",
    "\n",
    "    \n",
    "    print(step+3, \"length found:\", len(chains), \"chains\")\n",
    "    all_chains[step+3] = len(chains)"
   ]
  },
  {
   "cell_type": "code",
   "execution_count": 10,
   "id": "operational-reference",
   "metadata": {},
   "outputs": [
    {
     "data": {
      "text/plain": [
       "{3: 98,\n",
       " 4: 188,\n",
       " 5: 354,\n",
       " 6: 586,\n",
       " 7: 791,\n",
       " 8: 925,\n",
       " 9: 967,\n",
       " 10: 754,\n",
       " 11: 338,\n",
       " 12: 68}"
      ]
     },
     "execution_count": 10,
     "metadata": {},
     "output_type": "execute_result"
    }
   ],
   "source": [
    "all_chains"
   ]
  },
  {
   "cell_type": "code",
   "execution_count": 11,
   "id": "conditional-microphone",
   "metadata": {},
   "outputs": [
    {
     "data": {
      "image/png": "[encoded data removed]",
      "text/plain": [
       "<Figure size 720x360 with 1 Axes>"
      ]
     },
     "metadata": {
      "needs_background": "light"
     },
     "output_type": "display_data"
    }
   ],
   "source": [
    "plt.figure(figsize = (10,5))\n",
    "sns.barplot(x = list(all_chains.keys()), y = list(all_chains.values()))\n",
    "plt.title(\"Count of found chains cities names\")\n",
    "plt.show()"
   ]
  },
  {
   "cell_type": "markdown",
   "id": "indie-program",
   "metadata": {},
   "source": [
    "#### Show longest chains"
   ]
  },
  {
   "cell_type": "code",
   "execution_count": 12,
   "id": "centered-technology",
   "metadata": {},
   "outputs": [
    {
     "name": "stdout",
     "output_type": "stream",
     "text": [
      "Chain Lenght: 12 ['Paris', 'San Diego', 'Orlando', 'Oslo', 'Osaka', 'Atlanta', 'Amsterdam', 'Minsk', 'Karachi', 'Istanbul', 'Los Angeles', 'San Francisco']\n",
      "Chain Lenght: 12 ['Paris', 'San Diego', 'Orlando', 'Osaka', 'Atlanta', 'Amsterdam', 'Minsk', 'Karachi', 'Istanbul', 'Los Angeles', 'San Francisco', 'Oslo']\n",
      "Chain Lenght: 12 ['Paris', 'San Diego', 'Oslo', 'Orlando', 'Osaka', 'Atlanta', 'Amsterdam', 'Minsk', 'Karachi', 'Istanbul', 'Los Angeles', 'San Francisco']\n",
      "Chain Lenght: 12 ['Paris', 'San Diego', 'Oslo', 'Osaka', 'Atlanta', 'Amsterdam', 'Minsk', 'Karachi', 'Istanbul', 'Los Angeles', 'San Francisco', 'Orlando']\n",
      "Chain Lenght: 12 ['Paris', 'San Diego', 'Osaka', 'Atlanta', 'Amsterdam', 'Minsk', 'Karachi', 'Istanbul', 'Los Angeles', 'San Francisco', 'Orlando', 'Oslo']\n",
      "Chain Lenght: 12 ['Paris', 'San Diego', 'Osaka', 'Atlanta', 'Amsterdam', 'Minsk', 'Karachi', 'Istanbul', 'Los Angeles', 'San Francisco', 'Oslo', 'Orlando']\n",
      "Chain Lenght: 12 ['Paris', 'San Francisco', 'Orlando', 'Oslo', 'Osaka', 'Atlanta', 'Amsterdam', 'Minsk', 'Karachi', 'Istanbul', 'Los Angeles', 'San Diego']\n",
      "Chain Lenght: 12 ['Paris', 'San Francisco', 'Orlando', 'Osaka', 'Atlanta', 'Amsterdam', 'Minsk', 'Karachi', 'Istanbul', 'Los Angeles', 'San Diego', 'Oslo']\n",
      "Chain Lenght: 12 ['Paris', 'San Francisco', 'Oslo', 'Orlando', 'Osaka', 'Atlanta', 'Amsterdam', 'Minsk', 'Karachi', 'Istanbul', 'Los Angeles', 'San Diego']\n",
      "Chain Lenght: 12 ['Paris', 'San Francisco', 'Oslo', 'Osaka', 'Atlanta', 'Amsterdam', 'Minsk', 'Karachi', 'Istanbul', 'Los Angeles', 'San Diego', 'Orlando']\n",
      "Chain Lenght: 12 ['Paris', 'San Francisco', 'Osaka', 'Atlanta', 'Amsterdam', 'Minsk', 'Karachi', 'Istanbul', 'Los Angeles', 'San Diego', 'Orlando', 'Oslo']\n",
      "Chain Lenght: 12 ['Paris', 'San Francisco', 'Osaka', 'Atlanta', 'Amsterdam', 'Minsk', 'Karachi', 'Istanbul', 'Los Angeles', 'San Diego', 'Oslo', 'Orlando']\n",
      "Chain Lenght: 12 ['Boston', 'New York', 'Karachi', 'Istanbul', 'Los Angeles', 'San Diego', 'Orlando', 'Oslo', 'Osaka', 'Atlanta', 'Amsterdam', 'Moscow']\n",
      "Chain Lenght: 12 ['Boston', 'New York', 'Karachi', 'Istanbul', 'Los Angeles', 'San Diego', 'Orlando', 'Oslo', 'Osaka', 'Atlanta', 'Amsterdam', 'Minsk']\n",
      "Chain Lenght: 12 ['Boston', 'New York', 'Karachi', 'Istanbul', 'Los Angeles', 'San Diego', 'Orlando', 'Oslo', 'Osaka', 'Atlanta', 'Amsterdam', 'Miami']\n",
      "Chain Lenght: 12 ['Boston', 'New York', 'Karachi', 'Istanbul', 'Los Angeles', 'San Diego', 'Orlando', 'Oslo', 'Osaka', 'Atlanta', 'Amsterdam', 'Mexico']\n",
      "Chain Lenght: 12 ['Boston', 'New York', 'Karachi', 'Istanbul', 'Los Angeles', 'San Diego', 'Orlando', 'Oslo', 'Osaka', 'Atlanta', 'Amsterdam', 'Monterrey']\n",
      "Chain Lenght: 12 ['Boston', 'New York', 'Karachi', 'Istanbul', 'Los Angeles', 'San Diego', 'Orlando', 'Oslo', 'Osaka', 'Atlanta', 'Amsterdam', 'Mumbai']\n",
      "Chain Lenght: 12 ['Boston', 'New York', 'Karachi', 'Istanbul', 'Los Angeles', 'San Diego', 'Orlando', 'Osaka', 'Atlanta', 'Amsterdam', 'Mexico', 'Oslo']\n",
      "Chain Lenght: 12 ['Boston', 'New York', 'Karachi', 'Istanbul', 'Los Angeles', 'San Diego', 'Oslo', 'Orlando', 'Osaka', 'Atlanta', 'Amsterdam', 'Moscow']\n",
      "Chain Lenght: 12 ['Boston', 'New York', 'Karachi', 'Istanbul', 'Los Angeles', 'San Diego', 'Oslo', 'Orlando', 'Osaka', 'Atlanta', 'Amsterdam', 'Minsk']\n",
      "Chain Lenght: 12 ['Boston', 'New York', 'Karachi', 'Istanbul', 'Los Angeles', 'San Diego', 'Oslo', 'Orlando', 'Osaka', 'Atlanta', 'Amsterdam', 'Miami']\n",
      "Chain Lenght: 12 ['Boston', 'New York', 'Karachi', 'Istanbul', 'Los Angeles', 'San Diego', 'Oslo', 'Orlando', 'Osaka', 'Atlanta', 'Amsterdam', 'Mexico']\n",
      "Chain Lenght: 12 ['Boston', 'New York', 'Karachi', 'Istanbul', 'Los Angeles', 'San Diego', 'Oslo', 'Orlando', 'Osaka', 'Atlanta', 'Amsterdam', 'Monterrey']\n",
      "Chain Lenght: 12 ['Boston', 'New York', 'Karachi', 'Istanbul', 'Los Angeles', 'San Diego', 'Oslo', 'Orlando', 'Osaka', 'Atlanta', 'Amsterdam', 'Mumbai']\n",
      "Chain Lenght: 12 ['Boston', 'New York', 'Karachi', 'Istanbul', 'Los Angeles', 'San Diego', 'Oslo', 'Osaka', 'Atlanta', 'Amsterdam', 'Mexico', 'Orlando']\n",
      "Chain Lenght: 12 ['Boston', 'New York', 'Karachi', 'Istanbul', 'Los Angeles', 'San Diego', 'Osaka', 'Atlanta', 'Amsterdam', 'Mexico', 'Orlando', 'Oslo']\n",
      "Chain Lenght: 12 ['Boston', 'New York', 'Karachi', 'Istanbul', 'Los Angeles', 'San Diego', 'Osaka', 'Atlanta', 'Amsterdam', 'Mexico', 'Oslo', 'Orlando']\n",
      "Chain Lenght: 12 ['Boston', 'New York', 'Karachi', 'Istanbul', 'Los Angeles', 'San Francisco', 'Orlando', 'Oslo', 'Osaka', 'Atlanta', 'Amsterdam', 'Moscow']\n",
      "Chain Lenght: 12 ['Boston', 'New York', 'Karachi', 'Istanbul', 'Los Angeles', 'San Francisco', 'Orlando', 'Oslo', 'Osaka', 'Atlanta', 'Amsterdam', 'Minsk']\n",
      "Chain Lenght: 12 ['Boston', 'New York', 'Karachi', 'Istanbul', 'Los Angeles', 'San Francisco', 'Orlando', 'Oslo', 'Osaka', 'Atlanta', 'Amsterdam', 'Miami']\n",
      "Chain Lenght: 12 ['Boston', 'New York', 'Karachi', 'Istanbul', 'Los Angeles', 'San Francisco', 'Orlando', 'Oslo', 'Osaka', 'Atlanta', 'Amsterdam', 'Mexico']\n",
      "Chain Lenght: 12 ['Boston', 'New York', 'Karachi', 'Istanbul', 'Los Angeles', 'San Francisco', 'Orlando', 'Oslo', 'Osaka', 'Atlanta', 'Amsterdam', 'Monterrey']\n",
      "Chain Lenght: 12 ['Boston', 'New York', 'Karachi', 'Istanbul', 'Los Angeles', 'San Francisco', 'Orlando', 'Oslo', 'Osaka', 'Atlanta', 'Amsterdam', 'Mumbai']\n",
      "Chain Lenght: 12 ['Boston', 'New York', 'Karachi', 'Istanbul', 'Los Angeles', 'San Francisco', 'Orlando', 'Osaka', 'Atlanta', 'Amsterdam', 'Mexico', 'Oslo']\n",
      "Chain Lenght: 12 ['Boston', 'New York', 'Karachi', 'Istanbul', 'Los Angeles', 'San Francisco', 'Oslo', 'Orlando', 'Osaka', 'Atlanta', 'Amsterdam', 'Moscow']\n",
      "Chain Lenght: 12 ['Boston', 'New York', 'Karachi', 'Istanbul', 'Los Angeles', 'San Francisco', 'Oslo', 'Orlando', 'Osaka', 'Atlanta', 'Amsterdam', 'Minsk']\n",
      "Chain Lenght: 12 ['Boston', 'New York', 'Karachi', 'Istanbul', 'Los Angeles', 'San Francisco', 'Oslo', 'Orlando', 'Osaka', 'Atlanta', 'Amsterdam', 'Miami']\n",
      "Chain Lenght: 12 ['Boston', 'New York', 'Karachi', 'Istanbul', 'Los Angeles', 'San Francisco', 'Oslo', 'Orlando', 'Osaka', 'Atlanta', 'Amsterdam', 'Mexico']\n",
      "Chain Lenght: 12 ['Boston', 'New York', 'Karachi', 'Istanbul', 'Los Angeles', 'San Francisco', 'Oslo', 'Orlando', 'Osaka', 'Atlanta', 'Amsterdam', 'Monterrey']\n",
      "Chain Lenght: 12 ['Boston', 'New York', 'Karachi', 'Istanbul', 'Los Angeles', 'San Francisco', 'Oslo', 'Orlando', 'Osaka', 'Atlanta', 'Amsterdam', 'Mumbai']\n",
      "Chain Lenght: 12 ['Boston', 'New York', 'Karachi', 'Istanbul', 'Los Angeles', 'San Francisco', 'Oslo', 'Osaka', 'Atlanta', 'Amsterdam', 'Mexico', 'Orlando']\n",
      "Chain Lenght: 12 ['Boston', 'New York', 'Karachi', 'Istanbul', 'Los Angeles', 'San Francisco', 'Osaka', 'Atlanta', 'Amsterdam', 'Mexico', 'Orlando', 'Oslo']\n",
      "Chain Lenght: 12 ['Boston', 'New York', 'Karachi', 'Istanbul', 'Los Angeles', 'San Francisco', 'Osaka', 'Atlanta', 'Amsterdam', 'Mexico', 'Oslo', 'Orlando']\n",
      "Chain Lenght: 12 ['Detroit', 'Toronto', 'Orlando', 'Oslo', 'Osaka', 'Atlanta', 'Amsterdam', 'Minsk', 'Karachi', 'Istanbul', 'Los Angeles', 'San Diego']\n",
      "Chain Lenght: 12 ['Detroit', 'Toronto', 'Orlando', 'Oslo', 'Osaka', 'Atlanta', 'Amsterdam', 'Minsk', 'Karachi', 'Istanbul', 'Los Angeles', 'San Francisco']\n",
      "Chain Lenght: 12 ['Detroit', 'Toronto', 'Orlando', 'Osaka', 'Atlanta', 'Amsterdam', 'Minsk', 'Karachi', 'Istanbul', 'Los Angeles', 'San Diego', 'Oslo']\n",
      "Chain Lenght: 12 ['Detroit', 'Toronto', 'Orlando', 'Osaka', 'Atlanta', 'Amsterdam', 'Minsk', 'Karachi', 'Istanbul', 'Los Angeles', 'San Francisco', 'Oslo']\n",
      "Chain Lenght: 12 ['Detroit', 'Toronto', 'Oslo', 'Orlando', 'Osaka', 'Atlanta', 'Amsterdam', 'Minsk', 'Karachi', 'Istanbul', 'Los Angeles', 'San Diego']\n",
      "Chain Lenght: 12 ['Detroit', 'Toronto', 'Oslo', 'Orlando', 'Osaka', 'Atlanta', 'Amsterdam', 'Minsk', 'Karachi', 'Istanbul', 'Los Angeles', 'San Francisco']\n",
      "Chain Lenght: 12 ['Detroit', 'Toronto', 'Oslo', 'Osaka', 'Atlanta', 'Amsterdam', 'Minsk', 'Karachi', 'Istanbul', 'Los Angeles', 'San Diego', 'Orlando']\n",
      "Chain Lenght: 12 ['Detroit', 'Toronto', 'Oslo', 'Osaka', 'Atlanta', 'Amsterdam', 'Minsk', 'Karachi', 'Istanbul', 'Los Angeles', 'San Francisco', 'Orlando']\n",
      "Chain Lenght: 12 ['Detroit', 'Toronto', 'Osaka', 'Atlanta', 'Amsterdam', 'Minsk', 'Karachi', 'Istanbul', 'Los Angeles', 'San Diego', 'Orlando', 'Oslo']\n",
      "Chain Lenght: 12 ['Detroit', 'Toronto', 'Osaka', 'Atlanta', 'Amsterdam', 'Minsk', 'Karachi', 'Istanbul', 'Los Angeles', 'San Diego', 'Oslo', 'Orlando']\n",
      "Chain Lenght: 12 ['Detroit', 'Toronto', 'Osaka', 'Atlanta', 'Amsterdam', 'Minsk', 'Karachi', 'Istanbul', 'Los Angeles', 'San Francisco', 'Orlando', 'Oslo']\n",
      "Chain Lenght: 12 ['Detroit', 'Toronto', 'Osaka', 'Atlanta', 'Amsterdam', 'Minsk', 'Karachi', 'Istanbul', 'Los Angeles', 'San Francisco', 'Oslo', 'Orlando']\n",
      "Chain Lenght: 12 ['Buenos Aires', 'San Diego', 'Orlando', 'Oslo', 'Osaka', 'Atlanta', 'Amsterdam', 'Minsk', 'Karachi', 'Istanbul', 'Los Angeles', 'San Francisco']\n",
      "Chain Lenght: 12 ['Buenos Aires', 'San Diego', 'Orlando', 'Osaka', 'Atlanta', 'Amsterdam', 'Minsk', 'Karachi', 'Istanbul', 'Los Angeles', 'San Francisco', 'Oslo']\n",
      "Chain Lenght: 12 ['Buenos Aires', 'San Diego', 'Oslo', 'Orlando', 'Osaka', 'Atlanta', 'Amsterdam', 'Minsk', 'Karachi', 'Istanbul', 'Los Angeles', 'San Francisco']\n",
      "Chain Lenght: 12 ['Buenos Aires', 'San Diego', 'Oslo', 'Osaka', 'Atlanta', 'Amsterdam', 'Minsk', 'Karachi', 'Istanbul', 'Los Angeles', 'San Francisco', 'Orlando']\n",
      "Chain Lenght: 12 ['Buenos Aires', 'San Diego', 'Osaka', 'Atlanta', 'Amsterdam', 'Minsk', 'Karachi', 'Istanbul', 'Los Angeles', 'San Francisco', 'Orlando', 'Oslo']\n",
      "Chain Lenght: 12 ['Buenos Aires', 'San Diego', 'Osaka', 'Atlanta', 'Amsterdam', 'Minsk', 'Karachi', 'Istanbul', 'Los Angeles', 'San Francisco', 'Oslo', 'Orlando']\n",
      "Chain Lenght: 12 ['Buenos Aires', 'San Francisco', 'Orlando', 'Oslo', 'Osaka', 'Atlanta', 'Amsterdam', 'Minsk', 'Karachi', 'Istanbul', 'Los Angeles', 'San Diego']\n",
      "Chain Lenght: 12 ['Buenos Aires', 'San Francisco', 'Orlando', 'Osaka', 'Atlanta', 'Amsterdam', 'Minsk', 'Karachi', 'Istanbul', 'Los Angeles', 'San Diego', 'Oslo']\n",
      "Chain Lenght: 12 ['Buenos Aires', 'San Francisco', 'Oslo', 'Orlando', 'Osaka', 'Atlanta', 'Amsterdam', 'Minsk', 'Karachi', 'Istanbul', 'Los Angeles', 'San Diego']\n",
      "Chain Lenght: 12 ['Buenos Aires', 'San Francisco', 'Oslo', 'Osaka', 'Atlanta', 'Amsterdam', 'Minsk', 'Karachi', 'Istanbul', 'Los Angeles', 'San Diego', 'Orlando']\n",
      "Chain Lenght: 12 ['Buenos Aires', 'San Francisco', 'Osaka', 'Atlanta', 'Amsterdam', 'Minsk', 'Karachi', 'Istanbul', 'Los Angeles', 'San Diego', 'Orlando', 'Oslo']\n",
      "Chain Lenght: 12 ['Buenos Aires', 'San Francisco', 'Osaka', 'Atlanta', 'Amsterdam', 'Minsk', 'Karachi', 'Istanbul', 'Los Angeles', 'San Diego', 'Oslo', 'Orlando']\n"
     ]
    }
   ],
   "source": [
    "max_show = 100\n",
    "for chain in chains[:max_show]:\n",
    "    names = []\n",
    "    for i in chain:\n",
    "        names.append(cities[i])        \n",
    "    print(\"Chain Lenght:\", len(names), names)    "
   ]
  }
 ],
 "metadata": {
  "kernelspec": {
   "display_name": "Python 3",
   "language": "python",
   "name": "python3"
  },
  "language_info": {
   "codemirror_mode": {
    "name": "ipython",
    "version": 3
   },
   "file_extension": ".py",
   "mimetype": "text/x-python",
   "name": "python",
   "nbconvert_exporter": "python",
   "pygments_lexer": "ipython3",
   "version": "3.8.7"
  }
 },
 "nbformat": 4,
 "nbformat_minor": 5
}
